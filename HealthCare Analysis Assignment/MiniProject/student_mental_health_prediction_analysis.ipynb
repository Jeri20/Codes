{
  "metadata": {
    "kernelspec": {
      "language": "python",
      "display_name": "Python 3",
      "name": "python3"
    },
    "language_info": {
      "pygments_lexer": "ipython3",
      "nbconvert_exporter": "python",
      "version": "3.6.4",
      "file_extension": ".py",
      "codemirror_mode": {
        "name": "ipython",
        "version": 3
      },
      "name": "python",
      "mimetype": "text/x-python"
    },
    "colab": {
      "provenance": []
    }
  },
  "nbformat_minor": 0,
  "nbformat": 4,
  "cells": [
    {
      "cell_type": "markdown",
      "source": [
        "# Introduction"
      ],
      "metadata": {
        "id": "WKGmzRc4hVDO"
      }
    },
    {
      "cell_type": "markdown",
      "source": [
        "\n",
        "### <u><b>Abstract</b></u>  :\n",
        "\n",
        "In this case study on the Mental Health of University students I have tried to elaborately picturize the mental state of students through a detailed and thorough breakdown, highlighting possible dependencies on response factors through both plots and numeric figures.\n",
        "\n",
        "Here I have chosen 3 target variables: Panic Attacks, Depression"
      ],
      "metadata": {
        "id": "XDQ9EhoFarhr"
      }
    },
    {
      "cell_type": "markdown",
      "source": [
        "##Panic attacks\n",
        "\n",
        "These are sudden periods of intense fear and discomfort that may include palpitations, sweating, chest pain or chest discomfort, shortness of breath, trembling, dizziness, numbness, confusion, or a feeling of impending doom or of losing control. Panic attacks can occur due to several disorders including panic disorder, social anxiety disorder, post-traumatic stress disorder, substance use disorder, depression, and medical problems.\n",
        "\n",
        "Smoking, caffeine, and psychological stress increase the risk of having a panic attack\n",
        "\n",
        "There are long-term, biological, environmental, and social causes of panic attacks. In 1993, Fava et al. proposed a staging method of understanding the origins of disorders. The first stage in developing a disorder involves predisposing factors, such as genetics, personality, and a lack of well-being,Panic disorder often occurs in early adulthood, although it may appear at any age. It occurs more frequently in women and more often in people with above-average intelligence.\n",
        "\n",
        "\n",
        "*For this case 4 model classifiers are used initially using their default parameters to train and predict. The Catboostclassifier spaed better than the other models due to its high F1 score.*\n",
        "\n",
        "\n",
        "*Further hyperparameter tunning can be performed to improve the F1 score.*\n",
        "\n",
        "##Depression\n",
        "\n",
        "It is a common illness worldwide, with an estimated 3.8% of the population affected, including 5.0% among adults and 5.7% among adults older than 60 years (1). Approximately 280 million people in the world have depression .This is quite alarming!\n",
        "\n",
        "*Here RandomisedSearchCV is applied using RandomForestClassifier as the estimator and here each group of trees are learning from the result of the previous call instead of fitting a new group of trees every time.*\n",
        "\n",
        "\n",
        "*Using this trained model  and refitting the estimator using the best found parameters on the whole dataset obtained F1 score to be 0.777*\n",
        "\n",
        "\n",
        "\n",
        "\n",
        "\n",
        "\n",
        "Depression symptoms can vary from mild to severe and can include:\n",
        "\n",
        "* Feeling sad or having a depressed mood<br>\n",
        "* Loss of interest or pleasure in activities once enjoyed<br>\n",
        "* Changes in appetite — weight loss or gain unrelated to dieting<br>\n",
        "* Trouble sleeping or sleeping too much<br>\n",
        "* Loss of energy or increased fatigue<br>\n",
        "* Increase in purposeless physical activity (e.g., inability to sit still, pacing, handwringing) or slowed movements or speech (these actions must be severe enough to be observable by others)<br>\n",
        "* Feeling worthless or guilty<br>\n",
        "* Difficulty thinking, concentrating or making decisions<br>\n",
        "Thoughts of death or suicide\n",
        "\n",
        "\n",
        "\n"
      ],
      "metadata": {
        "id": "KQacgRN6aPvQ"
      }
    },
    {
      "cell_type": "markdown",
      "source": [
        "### 1. <u><b>Introduction</b></u>\n",
        "\n",
        "According to the World Health Organization, however, mental health is “a state of well-being in which every individual realises his or her own potential, can cope with the normal stresses of life, can work productively and fruitfully, and is able to make a contribution to her or his community.”\n",
        "\n",
        "Research shows that high levels of mental health are associated with increased learning, creativity and productivity, more pro-social behaviour and positive social relationships, and with improved physical health and life expectancy.\n",
        "\n",
        "In recent years, there has been increasing acknowledgment of the important role mental health plays in achieving global development goals, as illustrated by the inclusion of mental health in the Sustainable Development Goals. Depression is one of the leading causes of disability. Suicide is the fourth leading cause of death among 15-29-year-olds. People with severe mental health conditions die prematurely – as much as two decades early – due to preventable physical conditions.\n",
        "\n",
        "Despite progress in some countries, people with mental health conditions often experience severe human rights violations, discrimination, and stigma.\n",
        "\n",
        "Many mental health conditions can be effectively treated at relatively low cost, yet the gap between people needing care and those with access to care remains substantial. Effective treatment coverage remains extremely low.\n",
        "\n",
        "\n",
        "### 2. <u><b>Depression , Anxiety , Panic Attacks</b></u>\n",
        "\n",
        "##### 2a. <b>Panic Disorders and Isolation</b>\n",
        "\n",
        "Panic attacks are intense moments of fear and anxiety, but they are often brief. Still, the relationship between anxiety and depression could have to do with the panic attack aftermath. Panic attacks are so intense that people who experience them often worry about the next time they might have one. This can lead to anxiety symptoms in between panic attacks. It can also lead to something called avoidance, which is a psychological phenomenon when you start to avoid people, places, and situations that you associate with negative emotions. People with panic disorders often avoid the places and situations in which they experienced panic episodes, even if their environment wasn’t directly related to the attack.\n",
        "\n",
        "Avoidance can make your life more complicated, especially as you avoid more and more scenarios. This can lead to more stress, but it could also cause social isolation. Isolation is mental health kryptonite. Staying away from friends and family limits your support system and worsens your overall mental health, which can lead to depressive disorders.\n",
        "\n",
        "##### 2b. <b>Anxiety</b>\n",
        "\n",
        "Anxiety is a feeling of uneasiness and worry, usually generalized and unfocused as an overreaction to a situation that is only subjectively seen as menacing.It is often accompanied by muscular tension,[7] restlessness, fatigue, inability to catch one's breath, tightness in the abdominal region, nausea, and problems in concentration.\n",
        "\n",
        "Anxiety is a vital part of several different disorders. These include:"
      ],
      "metadata": {
        "id": "kc-nf9QEgpeY"
      }
    },
    {
      "cell_type": "markdown",
      "source": [
        "<!-- * Panic disorder :This means you experience recurring panic attacks at unexpected times.<br> -->\n",
        "* __Phobia :__ This is an excessive fear of a specific object, situation, or activity.<br>\n",
        "* __Social anxiety disorder :__ This is an extreme fear of being judged by others in social situations.<br>\n",
        "* __Obsessive-compulsive disorder :__ This means people have recurring irrational thoughts that lead them to perform   specific, repeated behaviors.<br>\n",
        "* __Separation anxiety disorder :__ This means people develop a fear of being away from home or from loved loved ones.\n",
        "  Illness anxiety disorder. This is anxiety about your health (formerly called hypochondria).\n",
        "\n",
        "* __Panic disorder :__ This means people experience recurring panic attacks at unexpected times\n",
        "\n",
        "\n",
        "##### 2c. <b>Depression</b>\n",
        "\n",
        "Depression (major depressive disorder) is a common and serious medical illness that negatively affects how you feel, the way you think and how you act. Fortunately, it is also treatable. Depression causes feelings of sadness and/or a loss of interest in activities you once enjoyed. It can lead to a variety of emotional and physical problems and can decrease your ability to function at work and at home.\n",
        "\n",
        "Depression affects an estimated one in 15 adults (6.7%) in any given year. And one in six people (16.6%) will experience depression at some time in their life. Depression can occur at any time, but on average, first appears during the late teens to mid-20s. Women are more likely than men to experience depression.\n"
      ],
      "metadata": {
        "id": "M2BJ6VlRgx0N"
      }
    },
    {
      "cell_type": "markdown",
      "source": [
        "\n",
        "\n",
        "This analysis presented here used 10 items in the questionnaire to measure subjective well-being\n",
        "\n",
        "Age\t<br>\n",
        "What is your course?\t<br>\n",
        "Your current year of Study\tWhat is your CGPA?\t<br>\n",
        "Marital status<br>\n",
        "What is your CGPA?<br>\n",
        "Do you have Depression?\t<br>\n",
        "Do you have Anxiety?\t<br>\n",
        "Do you have Panic attack?<br>\n",
        "Did you seek any specialist for a treatment?"
      ],
      "metadata": {
        "id": "4_LIcZ2lhDOQ"
      }
    },
    {
      "cell_type": "markdown",
      "source": [
        "#  Import Libraries"
      ],
      "metadata": {
        "id": "IcS-_NNGhQOS"
      }
    },
    {
      "cell_type": "code",
      "source": [
        "import pandas as pd\n",
        "import numpy as np\n",
        "import seaborn as sns\n",
        "import matplotlib.pyplot as plt\n",
        "from collections import Counter\n",
        "from imblearn.over_sampling import RandomOverSampler\n",
        "from sklearn.metrics import classification_report,confusion_matrix,precision_score,recall_score,accuracy_score,f1_score\n",
        "from sklearn import preprocessing\n",
        "import pandas as pd\n",
        "import numpy as np\n",
        "import tensorflow as tf\n",
        "from sklearn.model_selection import train_test_split\n",
        "from sklearn.preprocessing import StandardScaler\n",
        "from sklearn.metrics import classification_report\n"
      ],
      "metadata": {
        "id": "0IXtpEaxpAvk"
      },
      "execution_count": 69,
      "outputs": []
    },
    {
      "cell_type": "code",
      "source": [
        "from pydrive.auth import GoogleAuth\n",
        "from pydrive.drive import GoogleDrive\n",
        "from google.colab import drive\n",
        "drive.mount('/content/drive/')"
      ],
      "metadata": {
        "execution": {
          "iopub.status.busy": "2023-02-21T14:42:35.091485Z",
          "iopub.execute_input": "2023-02-21T14:42:35.091876Z",
          "iopub.status.idle": "2023-02-21T14:42:35.099477Z",
          "shell.execute_reply.started": "2023-02-21T14:42:35.091846Z",
          "shell.execute_reply": "2023-02-21T14:42:35.097955Z"
        },
        "trusted": true,
        "colab": {
          "base_uri": "https://localhost:8080/"
        },
        "id": "5-OaC92raPvk",
        "outputId": "69ac6696-0374-4c63-ad36-0434b117a50d"
      },
      "execution_count": 53,
      "outputs": [
        {
          "output_type": "stream",
          "name": "stdout",
          "text": [
            "Drive already mounted at /content/drive/; to attempt to forcibly remount, call drive.mount(\"/content/drive/\", force_remount=True).\n"
          ]
        }
      ]
    },
    {
      "cell_type": "markdown",
      "source": [
        "# Data Processing and Analysis"
      ],
      "metadata": {
        "id": "vOn6hNWeiCu8"
      }
    },
    {
      "cell_type": "code",
      "source": [
        "df = pd.read_csv('/content/drive/MyDrive/StudentMentalHealth.csv') # Reading data from the Student Mental health.csv file\n",
        "df.head(2)"
      ],
      "metadata": {
        "execution": {
          "iopub.status.busy": "2023-02-21T14:42:35.114464Z",
          "iopub.execute_input": "2023-02-21T14:42:35.114873Z",
          "iopub.status.idle": "2023-02-21T14:42:35.138193Z",
          "shell.execute_reply.started": "2023-02-21T14:42:35.114838Z",
          "shell.execute_reply": "2023-02-21T14:42:35.137228Z"
        },
        "trusted": true,
        "colab": {
          "base_uri": "https://localhost:8080/",
          "height": 164
        },
        "id": "NvJt_76VaPvp",
        "outputId": "d794edf4-1be8-46dc-eae8-9015e51d1e3b"
      },
      "execution_count": 5,
      "outputs": [
        {
          "output_type": "execute_result",
          "data": {
            "text/plain": [
              "        Timestamp Choose your gender   Age What is your course?  \\\n",
              "0  8/7/2020 12:02             Female  18.0          Engineering   \n",
              "1  8/7/2020 12:04               Male  21.0    Islamic education   \n",
              "\n",
              "  Your current year of Study What is your CGPA? Marital status  \\\n",
              "0                     year 1        3.00 - 3.49             No   \n",
              "1                     year 2        3.00 - 3.49             No   \n",
              "\n",
              "  Do you have Depression? Do you have Anxiety? Do you have Panic attack?  \\\n",
              "0                     Yes                   No                       Yes   \n",
              "1                      No                  Yes                        No   \n",
              "\n",
              "  Did you seek any specialist for a treatment?  \n",
              "0                                           No  \n",
              "1                                           No  "
            ],
            "text/html": [
              "\n",
              "  <div id=\"df-289d9ea3-5f86-4d68-bb16-70e76e92e297\" class=\"colab-df-container\">\n",
              "    <div>\n",
              "<style scoped>\n",
              "    .dataframe tbody tr th:only-of-type {\n",
              "        vertical-align: middle;\n",
              "    }\n",
              "\n",
              "    .dataframe tbody tr th {\n",
              "        vertical-align: top;\n",
              "    }\n",
              "\n",
              "    .dataframe thead th {\n",
              "        text-align: right;\n",
              "    }\n",
              "</style>\n",
              "<table border=\"1\" class=\"dataframe\">\n",
              "  <thead>\n",
              "    <tr style=\"text-align: right;\">\n",
              "      <th></th>\n",
              "      <th>Timestamp</th>\n",
              "      <th>Choose your gender</th>\n",
              "      <th>Age</th>\n",
              "      <th>What is your course?</th>\n",
              "      <th>Your current year of Study</th>\n",
              "      <th>What is your CGPA?</th>\n",
              "      <th>Marital status</th>\n",
              "      <th>Do you have Depression?</th>\n",
              "      <th>Do you have Anxiety?</th>\n",
              "      <th>Do you have Panic attack?</th>\n",
              "      <th>Did you seek any specialist for a treatment?</th>\n",
              "    </tr>\n",
              "  </thead>\n",
              "  <tbody>\n",
              "    <tr>\n",
              "      <th>0</th>\n",
              "      <td>8/7/2020 12:02</td>\n",
              "      <td>Female</td>\n",
              "      <td>18.0</td>\n",
              "      <td>Engineering</td>\n",
              "      <td>year 1</td>\n",
              "      <td>3.00 - 3.49</td>\n",
              "      <td>No</td>\n",
              "      <td>Yes</td>\n",
              "      <td>No</td>\n",
              "      <td>Yes</td>\n",
              "      <td>No</td>\n",
              "    </tr>\n",
              "    <tr>\n",
              "      <th>1</th>\n",
              "      <td>8/7/2020 12:04</td>\n",
              "      <td>Male</td>\n",
              "      <td>21.0</td>\n",
              "      <td>Islamic education</td>\n",
              "      <td>year 2</td>\n",
              "      <td>3.00 - 3.49</td>\n",
              "      <td>No</td>\n",
              "      <td>No</td>\n",
              "      <td>Yes</td>\n",
              "      <td>No</td>\n",
              "      <td>No</td>\n",
              "    </tr>\n",
              "  </tbody>\n",
              "</table>\n",
              "</div>\n",
              "    <div class=\"colab-df-buttons\">\n",
              "\n",
              "  <div class=\"colab-df-container\">\n",
              "    <button class=\"colab-df-convert\" onclick=\"convertToInteractive('df-289d9ea3-5f86-4d68-bb16-70e76e92e297')\"\n",
              "            title=\"Convert this dataframe to an interactive table.\"\n",
              "            style=\"display:none;\">\n",
              "\n",
              "  <svg xmlns=\"http://www.w3.org/2000/svg\" height=\"24px\" viewBox=\"0 -960 960 960\">\n",
              "    <path d=\"M120-120v-720h720v720H120Zm60-500h600v-160H180v160Zm220 220h160v-160H400v160Zm0 220h160v-160H400v160ZM180-400h160v-160H180v160Zm440 0h160v-160H620v160ZM180-180h160v-160H180v160Zm440 0h160v-160H620v160Z\"/>\n",
              "  </svg>\n",
              "    </button>\n",
              "\n",
              "  <style>\n",
              "    .colab-df-container {\n",
              "      display:flex;\n",
              "      gap: 12px;\n",
              "    }\n",
              "\n",
              "    .colab-df-convert {\n",
              "      background-color: #E8F0FE;\n",
              "      border: none;\n",
              "      border-radius: 50%;\n",
              "      cursor: pointer;\n",
              "      display: none;\n",
              "      fill: #1967D2;\n",
              "      height: 32px;\n",
              "      padding: 0 0 0 0;\n",
              "      width: 32px;\n",
              "    }\n",
              "\n",
              "    .colab-df-convert:hover {\n",
              "      background-color: #E2EBFA;\n",
              "      box-shadow: 0px 1px 2px rgba(60, 64, 67, 0.3), 0px 1px 3px 1px rgba(60, 64, 67, 0.15);\n",
              "      fill: #174EA6;\n",
              "    }\n",
              "\n",
              "    .colab-df-buttons div {\n",
              "      margin-bottom: 4px;\n",
              "    }\n",
              "\n",
              "    [theme=dark] .colab-df-convert {\n",
              "      background-color: #3B4455;\n",
              "      fill: #D2E3FC;\n",
              "    }\n",
              "\n",
              "    [theme=dark] .colab-df-convert:hover {\n",
              "      background-color: #434B5C;\n",
              "      box-shadow: 0px 1px 3px 1px rgba(0, 0, 0, 0.15);\n",
              "      filter: drop-shadow(0px 1px 2px rgba(0, 0, 0, 0.3));\n",
              "      fill: #FFFFFF;\n",
              "    }\n",
              "  </style>\n",
              "\n",
              "    <script>\n",
              "      const buttonEl =\n",
              "        document.querySelector('#df-289d9ea3-5f86-4d68-bb16-70e76e92e297 button.colab-df-convert');\n",
              "      buttonEl.style.display =\n",
              "        google.colab.kernel.accessAllowed ? 'block' : 'none';\n",
              "\n",
              "      async function convertToInteractive(key) {\n",
              "        const element = document.querySelector('#df-289d9ea3-5f86-4d68-bb16-70e76e92e297');\n",
              "        const dataTable =\n",
              "          await google.colab.kernel.invokeFunction('convertToInteractive',\n",
              "                                                    [key], {});\n",
              "        if (!dataTable) return;\n",
              "\n",
              "        const docLinkHtml = 'Like what you see? Visit the ' +\n",
              "          '<a target=\"_blank\" href=https://colab.research.google.com/notebooks/data_table.ipynb>data table notebook</a>'\n",
              "          + ' to learn more about interactive tables.';\n",
              "        element.innerHTML = '';\n",
              "        dataTable['output_type'] = 'display_data';\n",
              "        await google.colab.output.renderOutput(dataTable, element);\n",
              "        const docLink = document.createElement('div');\n",
              "        docLink.innerHTML = docLinkHtml;\n",
              "        element.appendChild(docLink);\n",
              "      }\n",
              "    </script>\n",
              "  </div>\n",
              "\n",
              "\n",
              "<div id=\"df-d9ec894d-1c25-4203-8e4b-60fcf48b9ffc\">\n",
              "  <button class=\"colab-df-quickchart\" onclick=\"quickchart('df-d9ec894d-1c25-4203-8e4b-60fcf48b9ffc')\"\n",
              "            title=\"Suggest charts.\"\n",
              "            style=\"display:none;\">\n",
              "\n",
              "<svg xmlns=\"http://www.w3.org/2000/svg\" height=\"24px\"viewBox=\"0 0 24 24\"\n",
              "     width=\"24px\">\n",
              "    <g>\n",
              "        <path d=\"M19 3H5c-1.1 0-2 .9-2 2v14c0 1.1.9 2 2 2h14c1.1 0 2-.9 2-2V5c0-1.1-.9-2-2-2zM9 17H7v-7h2v7zm4 0h-2V7h2v10zm4 0h-2v-4h2v4z\"/>\n",
              "    </g>\n",
              "</svg>\n",
              "  </button>\n",
              "\n",
              "<style>\n",
              "  .colab-df-quickchart {\n",
              "      --bg-color: #E8F0FE;\n",
              "      --fill-color: #1967D2;\n",
              "      --hover-bg-color: #E2EBFA;\n",
              "      --hover-fill-color: #174EA6;\n",
              "      --disabled-fill-color: #AAA;\n",
              "      --disabled-bg-color: #DDD;\n",
              "  }\n",
              "\n",
              "  [theme=dark] .colab-df-quickchart {\n",
              "      --bg-color: #3B4455;\n",
              "      --fill-color: #D2E3FC;\n",
              "      --hover-bg-color: #434B5C;\n",
              "      --hover-fill-color: #FFFFFF;\n",
              "      --disabled-bg-color: #3B4455;\n",
              "      --disabled-fill-color: #666;\n",
              "  }\n",
              "\n",
              "  .colab-df-quickchart {\n",
              "    background-color: var(--bg-color);\n",
              "    border: none;\n",
              "    border-radius: 50%;\n",
              "    cursor: pointer;\n",
              "    display: none;\n",
              "    fill: var(--fill-color);\n",
              "    height: 32px;\n",
              "    padding: 0;\n",
              "    width: 32px;\n",
              "  }\n",
              "\n",
              "  .colab-df-quickchart:hover {\n",
              "    background-color: var(--hover-bg-color);\n",
              "    box-shadow: 0 1px 2px rgba(60, 64, 67, 0.3), 0 1px 3px 1px rgba(60, 64, 67, 0.15);\n",
              "    fill: var(--button-hover-fill-color);\n",
              "  }\n",
              "\n",
              "  .colab-df-quickchart-complete:disabled,\n",
              "  .colab-df-quickchart-complete:disabled:hover {\n",
              "    background-color: var(--disabled-bg-color);\n",
              "    fill: var(--disabled-fill-color);\n",
              "    box-shadow: none;\n",
              "  }\n",
              "\n",
              "  .colab-df-spinner {\n",
              "    border: 2px solid var(--fill-color);\n",
              "    border-color: transparent;\n",
              "    border-bottom-color: var(--fill-color);\n",
              "    animation:\n",
              "      spin 1s steps(1) infinite;\n",
              "  }\n",
              "\n",
              "  @keyframes spin {\n",
              "    0% {\n",
              "      border-color: transparent;\n",
              "      border-bottom-color: var(--fill-color);\n",
              "      border-left-color: var(--fill-color);\n",
              "    }\n",
              "    20% {\n",
              "      border-color: transparent;\n",
              "      border-left-color: var(--fill-color);\n",
              "      border-top-color: var(--fill-color);\n",
              "    }\n",
              "    30% {\n",
              "      border-color: transparent;\n",
              "      border-left-color: var(--fill-color);\n",
              "      border-top-color: var(--fill-color);\n",
              "      border-right-color: var(--fill-color);\n",
              "    }\n",
              "    40% {\n",
              "      border-color: transparent;\n",
              "      border-right-color: var(--fill-color);\n",
              "      border-top-color: var(--fill-color);\n",
              "    }\n",
              "    60% {\n",
              "      border-color: transparent;\n",
              "      border-right-color: var(--fill-color);\n",
              "    }\n",
              "    80% {\n",
              "      border-color: transparent;\n",
              "      border-right-color: var(--fill-color);\n",
              "      border-bottom-color: var(--fill-color);\n",
              "    }\n",
              "    90% {\n",
              "      border-color: transparent;\n",
              "      border-bottom-color: var(--fill-color);\n",
              "    }\n",
              "  }\n",
              "</style>\n",
              "\n",
              "  <script>\n",
              "    async function quickchart(key) {\n",
              "      const quickchartButtonEl =\n",
              "        document.querySelector('#' + key + ' button');\n",
              "      quickchartButtonEl.disabled = true;  // To prevent multiple clicks.\n",
              "      quickchartButtonEl.classList.add('colab-df-spinner');\n",
              "      try {\n",
              "        const charts = await google.colab.kernel.invokeFunction(\n",
              "            'suggestCharts', [key], {});\n",
              "      } catch (error) {\n",
              "        console.error('Error during call to suggestCharts:', error);\n",
              "      }\n",
              "      quickchartButtonEl.classList.remove('colab-df-spinner');\n",
              "      quickchartButtonEl.classList.add('colab-df-quickchart-complete');\n",
              "    }\n",
              "    (() => {\n",
              "      let quickchartButtonEl =\n",
              "        document.querySelector('#df-d9ec894d-1c25-4203-8e4b-60fcf48b9ffc button');\n",
              "      quickchartButtonEl.style.display =\n",
              "        google.colab.kernel.accessAllowed ? 'block' : 'none';\n",
              "    })();\n",
              "  </script>\n",
              "</div>\n",
              "    </div>\n",
              "  </div>\n"
            ]
          },
          "metadata": {},
          "execution_count": 5
        }
      ]
    },
    {
      "cell_type": "code",
      "source": [
        "df.isnull().sum() # age has a null"
      ],
      "metadata": {
        "colab": {
          "base_uri": "https://localhost:8080/"
        },
        "id": "WEVEYR0ajyGU",
        "outputId": "89061595-2169-4635-d402-383015132507"
      },
      "execution_count": 6,
      "outputs": [
        {
          "output_type": "execute_result",
          "data": {
            "text/plain": [
              "Timestamp                                       0\n",
              "Choose your gender                              0\n",
              "Age                                             1\n",
              "What is your course?                            0\n",
              "Your current year of Study                      0\n",
              "What is your CGPA?                              0\n",
              "Marital status                                  0\n",
              "Do you have Depression?                         0\n",
              "Do you have Anxiety?                            0\n",
              "Do you have Panic attack?                       0\n",
              "Did you seek any specialist for a treatment?    0\n",
              "dtype: int64"
            ]
          },
          "metadata": {},
          "execution_count": 6
        }
      ]
    },
    {
      "cell_type": "code",
      "source": [
        "df['Age'] = df['Age'].fillna(df['Age'].mean())\n",
        "df['Age'].isnull().sum()"
      ],
      "metadata": {
        "execution": {
          "iopub.status.busy": "2023-02-21T14:42:35.164195Z",
          "iopub.execute_input": "2023-02-21T14:42:35.164624Z",
          "iopub.status.idle": "2023-02-21T14:42:35.176837Z",
          "shell.execute_reply.started": "2023-02-21T14:42:35.16459Z",
          "shell.execute_reply": "2023-02-21T14:42:35.175939Z"
        },
        "trusted": true,
        "colab": {
          "base_uri": "https://localhost:8080/"
        },
        "id": "63IKuvOYaPvw",
        "outputId": "fb13afb6-44e3-4381-ef32-e03d36aa1ac7"
      },
      "execution_count": 7,
      "outputs": [
        {
          "output_type": "execute_result",
          "data": {
            "text/plain": [
              "0"
            ]
          },
          "metadata": {},
          "execution_count": 7
        }
      ]
    },
    {
      "cell_type": "code",
      "source": [
        "df.columns # WE will rename these columns"
      ],
      "metadata": {
        "execution": {
          "iopub.status.busy": "2023-02-21T14:42:35.195559Z",
          "iopub.execute_input": "2023-02-21T14:42:35.19653Z",
          "iopub.status.idle": "2023-02-21T14:42:35.206384Z",
          "shell.execute_reply.started": "2023-02-21T14:42:35.196493Z",
          "shell.execute_reply": "2023-02-21T14:42:35.20542Z"
        },
        "trusted": true,
        "colab": {
          "base_uri": "https://localhost:8080/"
        },
        "id": "CZRfLicEaPvz",
        "outputId": "b3dec1db-1310-4b88-9f48-e469389402df"
      },
      "execution_count": 8,
      "outputs": [
        {
          "output_type": "execute_result",
          "data": {
            "text/plain": [
              "Index(['Timestamp', 'Choose your gender', 'Age', 'What is your course?',\n",
              "       'Your current year of Study', 'What is your CGPA?', 'Marital status',\n",
              "       'Do you have Depression?', 'Do you have Anxiety?',\n",
              "       'Do you have Panic attack?',\n",
              "       'Did you seek any specialist for a treatment?'],\n",
              "      dtype='object')"
            ]
          },
          "metadata": {},
          "execution_count": 8
        }
      ]
    },
    {
      "cell_type": "code",
      "source": [
        "df.columns = ['Date_Time', 'Gender', 'Age', 'Course', 'Year', 'CGPA', 'Marital_Status', 'Depression', 'Anxiety', 'Panic_Attack', 'Treatment']\n",
        "df.columns\n",
        "df.head(1) # Renamed columns\n",
        "df['Year'].unique() # year 1 and Year 1 are the same.We will only keep the year"
      ],
      "metadata": {
        "execution": {
          "iopub.status.busy": "2023-02-21T14:42:35.207715Z",
          "iopub.execute_input": "2023-02-21T14:42:35.209617Z",
          "iopub.status.idle": "2023-02-21T14:42:35.222096Z",
          "shell.execute_reply.started": "2023-02-21T14:42:35.209555Z",
          "shell.execute_reply": "2023-02-21T14:42:35.220818Z"
        },
        "trusted": true,
        "colab": {
          "base_uri": "https://localhost:8080/"
        },
        "id": "5T9s5KoRaPv1",
        "outputId": "a46ba157-d80c-4481-9888-66c876c63e77"
      },
      "execution_count": 9,
      "outputs": [
        {
          "output_type": "execute_result",
          "data": {
            "text/plain": [
              "array(['year 1', 'year 2', 'Year 1', 'year 3', 'year 4', 'Year 2',\n",
              "       'Year 3'], dtype=object)"
            ]
          },
          "metadata": {},
          "execution_count": 9
        }
      ]
    },
    {
      "cell_type": "code",
      "source": [
        "df['Year'] = df['Year'].apply(lambda x : int(x.split(' ')[-1]))\n",
        "df['Year'].unique()"
      ],
      "metadata": {
        "execution": {
          "iopub.status.busy": "2023-02-21T14:42:35.260151Z",
          "iopub.execute_input": "2023-02-21T14:42:35.260741Z",
          "iopub.status.idle": "2023-02-21T14:42:35.274238Z",
          "shell.execute_reply.started": "2023-02-21T14:42:35.260707Z",
          "shell.execute_reply": "2023-02-21T14:42:35.272867Z"
        },
        "trusted": true,
        "colab": {
          "base_uri": "https://localhost:8080/"
        },
        "id": "43VNmgZRaPv5",
        "outputId": "0419b76c-a73a-4505-fc98-87a13733fd0f"
      },
      "execution_count": 10,
      "outputs": [
        {
          "output_type": "execute_result",
          "data": {
            "text/plain": [
              "array([1, 2, 3, 4])"
            ]
          },
          "metadata": {},
          "execution_count": 10
        }
      ]
    },
    {
      "cell_type": "code",
      "source": [
        "df['CGPA'] = df['CGPA'].apply(lambda x : x.strip())\n",
        "df['CGPA'].unique()"
      ],
      "metadata": {
        "execution": {
          "iopub.status.busy": "2023-02-21T14:42:35.312484Z",
          "iopub.execute_input": "2023-02-21T14:42:35.312952Z",
          "iopub.status.idle": "2023-02-21T14:42:35.325403Z",
          "shell.execute_reply.started": "2023-02-21T14:42:35.312907Z",
          "shell.execute_reply": "2023-02-21T14:42:35.324028Z"
        },
        "trusted": true,
        "colab": {
          "base_uri": "https://localhost:8080/"
        },
        "id": "GKiHAcfgaPv7",
        "outputId": "d037a894-b5ff-41a7-f983-144cd3a69a84"
      },
      "execution_count": 11,
      "outputs": [
        {
          "output_type": "execute_result",
          "data": {
            "text/plain": [
              "array(['3.00 - 3.49', '3.50 - 4.00', '2.50 - 2.99', '2.00 - 2.49',\n",
              "       '0 - 1.99'], dtype=object)"
            ]
          },
          "metadata": {},
          "execution_count": 11
        }
      ]
    },
    {
      "cell_type": "code",
      "source": [
        "# To see the no of courses students are enrolled in\n",
        "\n",
        "Course_List = df['Course'].unique().tolist()\n",
        "print(len(Course_List))\n",
        "\n",
        "df['Course'].unique() # There are multiple courses with the same name.\n",
        "\n"
      ],
      "metadata": {
        "execution": {
          "iopub.status.busy": "2023-02-21T14:42:35.328228Z",
          "iopub.execute_input": "2023-02-21T14:42:35.329181Z",
          "iopub.status.idle": "2023-02-21T14:42:35.341231Z",
          "shell.execute_reply.started": "2023-02-21T14:42:35.329091Z",
          "shell.execute_reply": "2023-02-21T14:42:35.340008Z"
        },
        "trusted": true,
        "colab": {
          "base_uri": "https://localhost:8080/"
        },
        "id": "IHx24l-OaPv7",
        "outputId": "4887b5fa-ed1f-4531-f63f-c6ae062110d4"
      },
      "execution_count": 12,
      "outputs": [
        {
          "output_type": "stream",
          "name": "stdout",
          "text": [
            "49\n"
          ]
        },
        {
          "output_type": "execute_result",
          "data": {
            "text/plain": [
              "array(['Engineering', 'Islamic education', 'BIT', 'Laws', 'Mathemathics',\n",
              "       'Pendidikan islam', 'BCS', 'Human Resources', 'Irkhs',\n",
              "       'Psychology', 'KENMS', 'Accounting ', 'ENM', 'Marine science',\n",
              "       'KOE', 'Banking Studies', 'Business Administration', 'Law',\n",
              "       'KIRKHS', 'Usuluddin ', 'TAASL', 'Engine', 'ALA',\n",
              "       'Biomedical science', 'koe', 'Kirkhs', 'BENL', 'Benl', 'IT', 'CTS',\n",
              "       'engin', 'Econs', 'MHSC', 'Malcom', 'Kop', 'Human Sciences ',\n",
              "       'Biotechnology', 'Communication ', 'Diploma Nursing',\n",
              "       'Pendidikan Islam ', 'Radiography', 'psychology', 'Fiqh fatwa ',\n",
              "       'DIPLOMA TESL', 'Koe', 'Fiqh', 'Islamic Education', 'Nursing ',\n",
              "       'Pendidikan Islam'], dtype=object)"
            ]
          },
          "metadata": {},
          "execution_count": 12
        }
      ]
    },
    {
      "cell_type": "code",
      "source": [
        "course_dic = {'engin': 'Engineering' , 'Engine':'Engineering' , 'Islamic education':'Islamic Education' ,\n",
        "              'Pendidikan islam':'Pendidikan Islam' , 'BIT':'IT', 'psychology':'Psychology', 'koe': 'Koe',\n",
        "              'Kirkhs': 'Irkhs', 'KIRKHS': 'Irkhs', 'Benl': 'BENL', 'Fiqh fatwa ': 'Fiqh', 'Laws': 'Law'}\n",
        "\n",
        "df['Course'].replace(course_dic,inplace=True)"
      ],
      "metadata": {
        "execution": {
          "iopub.status.busy": "2023-02-21T14:42:35.343047Z",
          "iopub.execute_input": "2023-02-21T14:42:35.343584Z",
          "iopub.status.idle": "2023-02-21T14:42:35.352658Z",
          "shell.execute_reply.started": "2023-02-21T14:42:35.343549Z",
          "shell.execute_reply": "2023-02-21T14:42:35.351435Z"
        },
        "trusted": true,
        "id": "zEO_ef3raPv8"
      },
      "execution_count": 13,
      "outputs": []
    },
    {
      "cell_type": "code",
      "source": [
        "df[\"Age\"].value_counts() # 20.53 age has 1 record which is to be removed"
      ],
      "metadata": {
        "execution": {
          "iopub.status.busy": "2023-02-21T14:42:39.716133Z",
          "iopub.execute_input": "2023-02-21T14:42:39.716727Z",
          "iopub.status.idle": "2023-02-21T14:42:39.726781Z",
          "shell.execute_reply.started": "2023-02-21T14:42:39.716686Z",
          "shell.execute_reply": "2023-02-21T14:42:39.725349Z"
        },
        "trusted": true,
        "colab": {
          "base_uri": "https://localhost:8080/"
        },
        "id": "gE08-kxdaPwZ",
        "outputId": "1a28b33e-1e7e-409d-f938-117603edec14"
      },
      "execution_count": 40,
      "outputs": [
        {
          "output_type": "execute_result",
          "data": {
            "text/plain": [
              "18.00    32\n",
              "24.00    23\n",
              "19.00    21\n",
              "23.00    13\n",
              "20.00     6\n",
              "21.00     3\n",
              "22.00     2\n",
              "20.53     1\n",
              "Name: Age, dtype: int64"
            ]
          },
          "metadata": {},
          "execution_count": 40
        }
      ]
    },
    {
      "cell_type": "code",
      "source": [
        "row_idx = df[df['Age']==20.53].index"
      ],
      "metadata": {
        "execution": {
          "iopub.status.busy": "2023-02-21T14:42:39.728457Z",
          "iopub.execute_input": "2023-02-21T14:42:39.728832Z",
          "iopub.status.idle": "2023-02-21T14:42:39.736723Z",
          "shell.execute_reply.started": "2023-02-21T14:42:39.728799Z",
          "shell.execute_reply": "2023-02-21T14:42:39.735817Z"
        },
        "trusted": true,
        "id": "HD7ciP8daPwZ"
      },
      "execution_count": 41,
      "outputs": []
    },
    {
      "cell_type": "code",
      "source": [
        "df.iloc[row_idx] # This row have 20.53 age\n",
        "df_1 = df.drop(row_idx)\n",
        "print(df_1.shape)  # Removed the fractional age"
      ],
      "metadata": {
        "execution": {
          "iopub.status.busy": "2023-02-21T14:42:39.765432Z",
          "iopub.execute_input": "2023-02-21T14:42:39.765928Z",
          "iopub.status.idle": "2023-02-21T14:42:40.017961Z",
          "shell.execute_reply.started": "2023-02-21T14:42:39.76588Z",
          "shell.execute_reply": "2023-02-21T14:42:40.016433Z"
        },
        "trusted": true,
        "colab": {
          "base_uri": "https://localhost:8080/"
        },
        "id": "F-rxoQqfaPwa",
        "outputId": "adb0bbb9-bd4f-4c80-a01e-725addee5e25"
      },
      "execution_count": 43,
      "outputs": [
        {
          "output_type": "stream",
          "name": "stdout",
          "text": [
            "(100, 11)\n"
          ]
        }
      ]
    },
    {
      "cell_type": "code",
      "source": [
        "df.iloc[row_idx]"
      ],
      "metadata": {
        "execution": {
          "iopub.status.busy": "2023-02-21T14:42:40.019788Z",
          "iopub.execute_input": "2023-02-21T14:42:40.020241Z",
          "iopub.status.idle": "2023-02-21T14:42:40.038493Z",
          "shell.execute_reply.started": "2023-02-21T14:42:40.020203Z",
          "shell.execute_reply": "2023-02-21T14:42:40.03708Z"
        },
        "trusted": true,
        "colab": {
          "base_uri": "https://localhost:8080/",
          "height": 81
        },
        "id": "DVayc-E9aPwb",
        "outputId": "e7a702d7-eed2-4bb1-aed0-9a7ea627166b"
      },
      "execution_count": 44,
      "outputs": [
        {
          "output_type": "execute_result",
          "data": {
            "text/plain": [
              "         Date_Time Gender    Age Course  Year      CGPA Marital_Status  \\\n",
              "43  8/7/2020 15:07   Male  20.53     IT     1  0 - 1.99             No   \n",
              "\n",
              "   Depression Anxiety Panic_Attack Treatment  \n",
              "43         No      No           No        No  "
            ],
            "text/html": [
              "\n",
              "  <div id=\"df-65d98f70-8145-4d5f-ad5d-e17d3aeb0835\" class=\"colab-df-container\">\n",
              "    <div>\n",
              "<style scoped>\n",
              "    .dataframe tbody tr th:only-of-type {\n",
              "        vertical-align: middle;\n",
              "    }\n",
              "\n",
              "    .dataframe tbody tr th {\n",
              "        vertical-align: top;\n",
              "    }\n",
              "\n",
              "    .dataframe thead th {\n",
              "        text-align: right;\n",
              "    }\n",
              "</style>\n",
              "<table border=\"1\" class=\"dataframe\">\n",
              "  <thead>\n",
              "    <tr style=\"text-align: right;\">\n",
              "      <th></th>\n",
              "      <th>Date_Time</th>\n",
              "      <th>Gender</th>\n",
              "      <th>Age</th>\n",
              "      <th>Course</th>\n",
              "      <th>Year</th>\n",
              "      <th>CGPA</th>\n",
              "      <th>Marital_Status</th>\n",
              "      <th>Depression</th>\n",
              "      <th>Anxiety</th>\n",
              "      <th>Panic_Attack</th>\n",
              "      <th>Treatment</th>\n",
              "    </tr>\n",
              "  </thead>\n",
              "  <tbody>\n",
              "    <tr>\n",
              "      <th>43</th>\n",
              "      <td>8/7/2020 15:07</td>\n",
              "      <td>Male</td>\n",
              "      <td>20.53</td>\n",
              "      <td>IT</td>\n",
              "      <td>1</td>\n",
              "      <td>0 - 1.99</td>\n",
              "      <td>No</td>\n",
              "      <td>No</td>\n",
              "      <td>No</td>\n",
              "      <td>No</td>\n",
              "      <td>No</td>\n",
              "    </tr>\n",
              "  </tbody>\n",
              "</table>\n",
              "</div>\n",
              "    <div class=\"colab-df-buttons\">\n",
              "\n",
              "  <div class=\"colab-df-container\">\n",
              "    <button class=\"colab-df-convert\" onclick=\"convertToInteractive('df-65d98f70-8145-4d5f-ad5d-e17d3aeb0835')\"\n",
              "            title=\"Convert this dataframe to an interactive table.\"\n",
              "            style=\"display:none;\">\n",
              "\n",
              "  <svg xmlns=\"http://www.w3.org/2000/svg\" height=\"24px\" viewBox=\"0 -960 960 960\">\n",
              "    <path d=\"M120-120v-720h720v720H120Zm60-500h600v-160H180v160Zm220 220h160v-160H400v160Zm0 220h160v-160H400v160ZM180-400h160v-160H180v160Zm440 0h160v-160H620v160ZM180-180h160v-160H180v160Zm440 0h160v-160H620v160Z\"/>\n",
              "  </svg>\n",
              "    </button>\n",
              "\n",
              "  <style>\n",
              "    .colab-df-container {\n",
              "      display:flex;\n",
              "      gap: 12px;\n",
              "    }\n",
              "\n",
              "    .colab-df-convert {\n",
              "      background-color: #E8F0FE;\n",
              "      border: none;\n",
              "      border-radius: 50%;\n",
              "      cursor: pointer;\n",
              "      display: none;\n",
              "      fill: #1967D2;\n",
              "      height: 32px;\n",
              "      padding: 0 0 0 0;\n",
              "      width: 32px;\n",
              "    }\n",
              "\n",
              "    .colab-df-convert:hover {\n",
              "      background-color: #E2EBFA;\n",
              "      box-shadow: 0px 1px 2px rgba(60, 64, 67, 0.3), 0px 1px 3px 1px rgba(60, 64, 67, 0.15);\n",
              "      fill: #174EA6;\n",
              "    }\n",
              "\n",
              "    .colab-df-buttons div {\n",
              "      margin-bottom: 4px;\n",
              "    }\n",
              "\n",
              "    [theme=dark] .colab-df-convert {\n",
              "      background-color: #3B4455;\n",
              "      fill: #D2E3FC;\n",
              "    }\n",
              "\n",
              "    [theme=dark] .colab-df-convert:hover {\n",
              "      background-color: #434B5C;\n",
              "      box-shadow: 0px 1px 3px 1px rgba(0, 0, 0, 0.15);\n",
              "      filter: drop-shadow(0px 1px 2px rgba(0, 0, 0, 0.3));\n",
              "      fill: #FFFFFF;\n",
              "    }\n",
              "  </style>\n",
              "\n",
              "    <script>\n",
              "      const buttonEl =\n",
              "        document.querySelector('#df-65d98f70-8145-4d5f-ad5d-e17d3aeb0835 button.colab-df-convert');\n",
              "      buttonEl.style.display =\n",
              "        google.colab.kernel.accessAllowed ? 'block' : 'none';\n",
              "\n",
              "      async function convertToInteractive(key) {\n",
              "        const element = document.querySelector('#df-65d98f70-8145-4d5f-ad5d-e17d3aeb0835');\n",
              "        const dataTable =\n",
              "          await google.colab.kernel.invokeFunction('convertToInteractive',\n",
              "                                                    [key], {});\n",
              "        if (!dataTable) return;\n",
              "\n",
              "        const docLinkHtml = 'Like what you see? Visit the ' +\n",
              "          '<a target=\"_blank\" href=https://colab.research.google.com/notebooks/data_table.ipynb>data table notebook</a>'\n",
              "          + ' to learn more about interactive tables.';\n",
              "        element.innerHTML = '';\n",
              "        dataTable['output_type'] = 'display_data';\n",
              "        await google.colab.output.renderOutput(dataTable, element);\n",
              "        const docLink = document.createElement('div');\n",
              "        docLink.innerHTML = docLinkHtml;\n",
              "        element.appendChild(docLink);\n",
              "      }\n",
              "    </script>\n",
              "  </div>\n",
              "\n",
              "    </div>\n",
              "  </div>\n"
            ]
          },
          "metadata": {},
          "execution_count": 44
        }
      ]
    },
    {
      "cell_type": "code",
      "source": [
        "from scipy.stats import shapiro\n",
        "print(df[['Age','Year']].skew())\n",
        "print(\"For age :\", shapiro(df[['Age']]))\n",
        "print(\"For Year :\", shapiro(df[['Year']]))"
      ],
      "metadata": {
        "execution": {
          "iopub.status.busy": "2023-02-21T14:42:40.04044Z",
          "iopub.execute_input": "2023-02-21T14:42:40.041814Z",
          "iopub.status.idle": "2023-02-21T14:42:40.056535Z",
          "shell.execute_reply.started": "2023-02-21T14:42:40.041766Z",
          "shell.execute_reply": "2023-02-21T14:42:40.055184Z"
        },
        "trusted": true,
        "colab": {
          "base_uri": "https://localhost:8080/"
        },
        "id": "hAOzt7EyaPwb",
        "outputId": "5a817987-138e-4c79-800e-72682816d347"
      },
      "execution_count": 45,
      "outputs": [
        {
          "output_type": "stream",
          "name": "stdout",
          "text": [
            "Age     0.378999\n",
            "Year    0.558130\n",
            "dtype: float64\n",
            "For age : ShapiroResult(statistic=0.790394127368927, pvalue=1.1008247785548875e-10)\n",
            "For Year : ShapiroResult(statistic=0.8191124796867371, pvalue=8.747355062510564e-10)\n"
          ]
        }
      ]
    },
    {
      "cell_type": "code",
      "source": [
        "len(df['Course'].unique().tolist()) # So in actual there are 37 unique courses"
      ],
      "metadata": {
        "execution": {
          "iopub.status.busy": "2023-02-21T14:42:35.354262Z",
          "iopub.execute_input": "2023-02-21T14:42:35.35558Z",
          "iopub.status.idle": "2023-02-21T14:42:35.370773Z",
          "shell.execute_reply.started": "2023-02-21T14:42:35.355527Z",
          "shell.execute_reply": "2023-02-21T14:42:35.369773Z"
        },
        "trusted": true,
        "colab": {
          "base_uri": "https://localhost:8080/"
        },
        "id": "81vL9JN0aPv8",
        "outputId": "d7f690cc-32f6-400d-b1fb-a08e8ec6754a"
      },
      "execution_count": 14,
      "outputs": [
        {
          "output_type": "execute_result",
          "data": {
            "text/plain": [
              "37"
            ]
          },
          "metadata": {},
          "execution_count": 14
        }
      ]
    },
    {
      "cell_type": "code",
      "source": [
        "df['Course'].value_counts() # No of students enrolled in each course"
      ],
      "metadata": {
        "execution": {
          "iopub.status.busy": "2023-02-21T14:42:35.398172Z",
          "iopub.execute_input": "2023-02-21T14:42:35.398773Z",
          "iopub.status.idle": "2023-02-21T14:42:35.408335Z",
          "shell.execute_reply.started": "2023-02-21T14:42:35.398729Z",
          "shell.execute_reply": "2023-02-21T14:42:35.407Z"
        },
        "trusted": true,
        "colab": {
          "base_uri": "https://localhost:8080/"
        },
        "id": "LU4WL06baPv9",
        "outputId": "642b72e3-148a-4ee0-d0e3-fecd19924cb2"
      },
      "execution_count": 15,
      "outputs": [
        {
          "output_type": "execute_result",
          "data": {
            "text/plain": [
              "Engineering                20\n",
              "BCS                        18\n",
              "IT                         11\n",
              "Biomedical science          4\n",
              "KOE                         4\n",
              "Law                         3\n",
              "BENL                        3\n",
              "Irkhs                       3\n",
              "Psychology                  3\n",
              "Pendidikan Islam            2\n",
              "Fiqh                        2\n",
              "Koe                         2\n",
              "Islamic Education           2\n",
              "Human Sciences              1\n",
              "Malcom                      1\n",
              "Kop                         1\n",
              "Diploma Nursing             1\n",
              "Biotechnology               1\n",
              "Communication               1\n",
              "Econs                       1\n",
              "Pendidikan Islam            1\n",
              "Radiography                 1\n",
              "DIPLOMA TESL                1\n",
              "MHSC                        1\n",
              "TAASL                       1\n",
              "CTS                         1\n",
              "ALA                         1\n",
              "Usuluddin                   1\n",
              "Business Administration     1\n",
              "Banking Studies             1\n",
              "Marine science              1\n",
              "ENM                         1\n",
              "Accounting                  1\n",
              "KENMS                       1\n",
              "Human Resources             1\n",
              "Mathemathics                1\n",
              "Nursing                     1\n",
              "Name: Course, dtype: int64"
            ]
          },
          "metadata": {},
          "execution_count": 15
        }
      ]
    },
    {
      "cell_type": "markdown",
      "source": [
        "Engineering students from 1,2,4 years have appeared in maximum no in surveys except in year = 3\n",
        "\n",
        "Apart from Engineering BCS students have also appered in surveys in huge no except in year = 4\n",
        "\n",
        "Engineering , BCS, IT had responded in the srvey in max no . This also indicates that these students must be sufering from some kind of meltal health issue hence had taken the survey.\n",
        "\n",
        "The missing courses in year = 4 must be due to the fact that these courses have 3 year duration\n",
        "\n"
      ],
      "metadata": {
        "id": "YYN2MIHwaPv_"
      }
    },
    {
      "cell_type": "markdown",
      "source": [
        "# Anxiety"
      ],
      "metadata": {
        "id": "pqS_GWpHaPwA"
      }
    },
    {
      "cell_type": "code",
      "source": [
        "df['Anxiety'].value_counts() # Out of 101 students 34 are suffering from anxiety"
      ],
      "metadata": {
        "execution": {
          "iopub.status.busy": "2023-02-21T14:42:36.8355Z",
          "iopub.execute_input": "2023-02-21T14:42:36.836145Z",
          "iopub.status.idle": "2023-02-21T14:42:36.84516Z",
          "shell.execute_reply.started": "2023-02-21T14:42:36.836108Z",
          "shell.execute_reply": "2023-02-21T14:42:36.843875Z"
        },
        "trusted": true,
        "colab": {
          "base_uri": "https://localhost:8080/"
        },
        "id": "dikD-2a_aPwA",
        "outputId": "12c01cb4-5f80-4354-f347-ed642e028483"
      },
      "execution_count": 17,
      "outputs": [
        {
          "output_type": "execute_result",
          "data": {
            "text/plain": [
              "No     67\n",
              "Yes    34\n",
              "Name: Anxiety, dtype: int64"
            ]
          },
          "metadata": {},
          "execution_count": 17
        }
      ]
    },
    {
      "cell_type": "code",
      "source": [
        "plt.figure(figsize=(6,4))\n",
        "plot_1 = sns.stripplot(x='Anxiety',y='Course',data=df,hue='Gender')\n",
        "plot_1.set_title(\"Course vs Anxiety\")"
      ],
      "metadata": {
        "execution": {
          "iopub.status.busy": "2023-02-21T14:42:36.846905Z",
          "iopub.execute_input": "2023-02-21T14:42:36.847256Z",
          "iopub.status.idle": "2023-02-21T14:42:37.430974Z",
          "shell.execute_reply.started": "2023-02-21T14:42:36.847224Z",
          "shell.execute_reply": "2023-02-21T14:42:37.429786Z"
        },
        "trusted": true,
        "colab": {
          "base_uri": "https://localhost:8080/",
          "height": 427
        },
        "id": "PHvaLwncaPwB",
        "outputId": "1adf3b6c-8117-430d-bea5-23ac3fc24788"
      },
      "execution_count": 34,
      "outputs": [
        {
          "output_type": "execute_result",
          "data": {
            "text/plain": [
              "Text(0.5, 1.0, 'Course vs Anxiety')"
            ]
          },
          "metadata": {},
          "execution_count": 34
        },
        {
          "output_type": "display_data",
          "data": {
            "text/plain": [
              "<Figure size 600x400 with 1 Axes>"
            ],
            "image/png": "[encoded data removed]"
          },
          "metadata": {}
        }
      ]
    },
    {
      "cell_type": "code",
      "source": [
        "print(\" No Anxiety \\n\")\n",
        "print(df[df['Anxiety']=='No']['Course'].value_counts().nlargest(5))\n",
        "print(\"\\n Anxiety \\n\")\n",
        "print(df[df['Anxiety']=='Yes']['Course'].value_counts().nlargest(5))"
      ],
      "metadata": {
        "execution": {
          "iopub.status.busy": "2023-02-21T14:42:37.434363Z",
          "iopub.execute_input": "2023-02-21T14:42:37.435533Z",
          "iopub.status.idle": "2023-02-21T14:42:37.450867Z",
          "shell.execute_reply.started": "2023-02-21T14:42:37.435477Z",
          "shell.execute_reply": "2023-02-21T14:42:37.449376Z"
        },
        "trusted": true,
        "colab": {
          "base_uri": "https://localhost:8080/"
        },
        "id": "fTNu_Q8daPwB",
        "outputId": "d65ef282-3da1-4a69-a573-4fb78e04f134"
      },
      "execution_count": 20,
      "outputs": [
        {
          "output_type": "stream",
          "name": "stdout",
          "text": [
            " No Anxiety \n",
            "\n",
            "Engineering           16\n",
            "BCS                   12\n",
            "Biomedical science     4\n",
            "IT                     3\n",
            "BENL                   2\n",
            "Name: Course, dtype: int64\n",
            "\n",
            " Anxiety \n",
            "\n",
            "IT             8\n",
            "BCS            6\n",
            "Engineering    4\n",
            "Koe            2\n",
            "KOE            2\n",
            "Name: Course, dtype: int64\n"
          ]
        }
      ]
    },
    {
      "cell_type": "markdown",
      "source": [
        "__From the plot of Course Vs Anxiety__\n",
        "\n",
        "IT students suffers from max anxiety\n",
        "\n",
        "BCS , Engineering students are the next 2 who suffers from max anxiety\n",
        "\n"
      ],
      "metadata": {
        "id": "JP1h2fqFaPwC"
      }
    },
    {
      "cell_type": "code",
      "source": [
        "df[['Anxiety','Gender']].groupby('Gender')['Anxiety'].value_counts()"
      ],
      "metadata": {
        "execution": {
          "iopub.status.busy": "2023-02-21T14:42:37.452998Z",
          "iopub.execute_input": "2023-02-21T14:42:37.453701Z",
          "iopub.status.idle": "2023-02-21T14:42:37.465634Z",
          "shell.execute_reply.started": "2023-02-21T14:42:37.453662Z",
          "shell.execute_reply": "2023-02-21T14:42:37.464554Z"
        },
        "trusted": true,
        "colab": {
          "base_uri": "https://localhost:8080/"
        },
        "id": "ZQ9uSgMRaPwC",
        "outputId": "4bd39e62-e4e6-4be8-9773-4819fad1fa23"
      },
      "execution_count": 21,
      "outputs": [
        {
          "output_type": "execute_result",
          "data": {
            "text/plain": [
              "Gender  Anxiety\n",
              "Female  No         51\n",
              "        Yes        24\n",
              "Male    No         16\n",
              "        Yes        10\n",
              "Name: Anxiety, dtype: int64"
            ]
          },
          "metadata": {},
          "execution_count": 21
        }
      ]
    },
    {
      "cell_type": "markdown",
      "source": [
        "Much more no of Female students suffer from anxiety than Male students"
      ],
      "metadata": {
        "id": "NE0MxAePaPwC"
      }
    },
    {
      "cell_type": "code",
      "source": [
        "# To find the courses enrolled in where students faces no anxiety\n",
        "\n",
        "Anx = df[df['Anxiety']=='Yes']['Course'].unique().tolist()\n",
        "No_Anx = df[df['Anxiety']=='No']['Course'].unique().tolist()\n",
        "\n",
        "\n",
        "set1 = set(No_Anx)\n",
        "set2 = set(Anx)\n",
        "\n",
        "print(list(sorted(set1 - set2)))\n"
      ],
      "metadata": {
        "execution": {
          "iopub.status.busy": "2023-02-21T14:42:37.466919Z",
          "iopub.execute_input": "2023-02-21T14:42:37.468397Z",
          "iopub.status.idle": "2023-02-21T14:42:37.481742Z",
          "shell.execute_reply.started": "2023-02-21T14:42:37.46833Z",
          "shell.execute_reply": "2023-02-21T14:42:37.480511Z"
        },
        "trusted": true,
        "colab": {
          "base_uri": "https://localhost:8080/"
        },
        "id": "cSVXCsqgaPwD",
        "outputId": "5ba51987-bb78-457d-9c40-ae0ca4792dec"
      },
      "execution_count": 22,
      "outputs": [
        {
          "output_type": "stream",
          "name": "stdout",
          "text": [
            "['ALA', 'Accounting ', 'Banking Studies', 'Biomedical science', 'Biotechnology', 'Business Administration', 'CTS', 'DIPLOMA TESL', 'Diploma Nursing', 'Fiqh', 'Human Resources', 'Human Sciences ', 'MHSC', 'Malcom', 'Mathemathics', 'Nursing ', 'Pendidikan Islam', 'Pendidikan Islam ', 'Radiography', 'TAASL', 'Usuluddin ']\n"
          ]
        }
      ]
    },
    {
      "cell_type": "markdown",
      "source": [
        "# Depression"
      ],
      "metadata": {
        "id": "g6cad_k9aPwD"
      }
    },
    {
      "cell_type": "code",
      "source": [
        "df['Depression'].value_counts()"
      ],
      "metadata": {
        "execution": {
          "iopub.status.busy": "2023-02-21T14:42:37.485181Z",
          "iopub.execute_input": "2023-02-21T14:42:37.485763Z",
          "iopub.status.idle": "2023-02-21T14:42:37.502082Z",
          "shell.execute_reply.started": "2023-02-21T14:42:37.485701Z",
          "shell.execute_reply": "2023-02-21T14:42:37.500773Z"
        },
        "trusted": true,
        "colab": {
          "base_uri": "https://localhost:8080/"
        },
        "id": "uoCDe1tGaPwE",
        "outputId": "3e692ca1-eeba-4f70-ce13-3cb124c14d6e"
      },
      "execution_count": 28,
      "outputs": [
        {
          "output_type": "execute_result",
          "data": {
            "text/plain": [
              "No     66\n",
              "Yes    35\n",
              "Name: Depression, dtype: int64"
            ]
          },
          "metadata": {},
          "execution_count": 28
        }
      ]
    },
    {
      "cell_type": "code",
      "source": [
        "plt.figure(figsize=(6,4))\n",
        "plot_2 = sns.stripplot(x='Depression',y='Course',data=df,hue='Gender')\n",
        "plot_2.set_title(\"Course vs Depression\")"
      ],
      "metadata": {
        "execution": {
          "iopub.status.busy": "2023-02-21T14:42:37.503749Z",
          "iopub.execute_input": "2023-02-21T14:42:37.504899Z",
          "iopub.status.idle": "2023-02-21T14:42:38.08656Z",
          "shell.execute_reply.started": "2023-02-21T14:42:37.504858Z",
          "shell.execute_reply": "2023-02-21T14:42:38.085357Z"
        },
        "trusted": true,
        "colab": {
          "base_uri": "https://localhost:8080/",
          "height": 427
        },
        "id": "Y67MRKF_aPwE",
        "outputId": "c5792ab0-0cc0-4e78-8000-3b654ad8a2c5"
      },
      "execution_count": 35,
      "outputs": [
        {
          "output_type": "execute_result",
          "data": {
            "text/plain": [
              "Text(0.5, 1.0, 'Course vs Depression')"
            ]
          },
          "metadata": {},
          "execution_count": 35
        },
        {
          "output_type": "display_data",
          "data": {
            "text/plain": [
              "<Figure size 600x400 with 1 Axes>"
            ],
            "image/png": "[encoded data removed]"
          },
          "metadata": {}
        }
      ]
    },
    {
      "cell_type": "code",
      "source": [
        "print(df[df['Depression']=='Yes']['Course'].value_counts().nlargest(5))"
      ],
      "metadata": {
        "execution": {
          "iopub.status.busy": "2023-02-21T14:42:38.088066Z",
          "iopub.execute_input": "2023-02-21T14:42:38.089232Z",
          "iopub.status.idle": "2023-02-21T14:42:38.09953Z",
          "shell.execute_reply.started": "2023-02-21T14:42:38.089188Z",
          "shell.execute_reply": "2023-02-21T14:42:38.097939Z"
        },
        "trusted": true,
        "colab": {
          "base_uri": "https://localhost:8080/"
        },
        "id": "OI8npJYyaPwF",
        "outputId": "eb521b50-165e-438d-96d9-f70c77089a4c"
      },
      "execution_count": 30,
      "outputs": [
        {
          "output_type": "stream",
          "name": "stdout",
          "text": [
            "Engineering    7\n",
            "BCS            5\n",
            "IT             5\n",
            "Law            2\n",
            "Psychology     2\n",
            "Name: Course, dtype: int64\n"
          ]
        }
      ]
    },
    {
      "cell_type": "markdown",
      "source": [
        "Engineering stuedents ranks the top in depression . BCS , IT follwing after it"
      ],
      "metadata": {
        "id": "jLzfyqlIaPwF"
      }
    },
    {
      "cell_type": "code",
      "source": [
        "df.columns"
      ],
      "metadata": {
        "execution": {
          "iopub.status.busy": "2023-02-21T14:42:38.101399Z",
          "iopub.execute_input": "2023-02-21T14:42:38.101878Z",
          "iopub.status.idle": "2023-02-21T14:42:38.113169Z",
          "shell.execute_reply.started": "2023-02-21T14:42:38.101833Z",
          "shell.execute_reply": "2023-02-21T14:42:38.111846Z"
        },
        "trusted": true,
        "colab": {
          "base_uri": "https://localhost:8080/"
        },
        "id": "Lrlf8X4NaPwG",
        "outputId": "4b4c51fc-7adc-4680-e5a5-757ac8993f41"
      },
      "execution_count": 31,
      "outputs": [
        {
          "output_type": "execute_result",
          "data": {
            "text/plain": [
              "Index(['Date_Time', 'Gender', 'Age', 'Course', 'Year', 'CGPA',\n",
              "       'Marital_Status', 'Depression', 'Anxiety', 'Panic_Attack', 'Treatment'],\n",
              "      dtype='object')"
            ]
          },
          "metadata": {},
          "execution_count": 31
        }
      ]
    },
    {
      "cell_type": "code",
      "source": [
        "df[['Gender','Depression']].value_counts()"
      ],
      "metadata": {
        "execution": {
          "iopub.status.busy": "2023-02-21T14:42:38.114751Z",
          "iopub.execute_input": "2023-02-21T14:42:38.115648Z",
          "iopub.status.idle": "2023-02-21T14:42:38.129978Z",
          "shell.execute_reply.started": "2023-02-21T14:42:38.115607Z",
          "shell.execute_reply": "2023-02-21T14:42:38.12865Z"
        },
        "trusted": true,
        "colab": {
          "base_uri": "https://localhost:8080/"
        },
        "id": "y6pXj5yqaPwG",
        "outputId": "9a6b50fc-420e-4502-a585-b73e925ee554"
      },
      "execution_count": 32,
      "outputs": [
        {
          "output_type": "execute_result",
          "data": {
            "text/plain": [
              "Gender  Depression\n",
              "Female  No            46\n",
              "        Yes           29\n",
              "Male    No            20\n",
              "        Yes            6\n",
              "dtype: int64"
            ]
          },
          "metadata": {},
          "execution_count": 32
        }
      ]
    },
    {
      "cell_type": "markdown",
      "source": [
        "Result showed Females suffer mostly from depression than males"
      ],
      "metadata": {
        "id": "hig2Ui7laPwT"
      }
    },
    {
      "cell_type": "markdown",
      "source": [
        "# Panic Attacks"
      ],
      "metadata": {
        "id": "W2QK1B7BaPwT"
      }
    },
    {
      "cell_type": "code",
      "source": [
        "plt.figure(figsize=(6,4))\n",
        "plot_2 = sns.stripplot(x='Panic_Attack',y='Course',data=df,hue='Gender')\n",
        "plot_2.set_title(\"Course vs Panic_Attack\")"
      ],
      "metadata": {
        "execution": {
          "iopub.status.busy": "2023-02-21T14:42:38.135548Z",
          "iopub.execute_input": "2023-02-21T14:42:38.135979Z",
          "iopub.status.idle": "2023-02-21T14:42:39.395484Z",
          "shell.execute_reply.started": "2023-02-21T14:42:38.135943Z",
          "shell.execute_reply": "2023-02-21T14:42:39.394123Z"
        },
        "trusted": true,
        "colab": {
          "base_uri": "https://localhost:8080/",
          "height": 427
        },
        "id": "IzXrmvGDaPwU",
        "outputId": "16cd7a50-fa76-40d5-babd-c57f43f56af4"
      },
      "execution_count": 36,
      "outputs": [
        {
          "output_type": "execute_result",
          "data": {
            "text/plain": [
              "Text(0.5, 1.0, 'Course vs Panic_Attack')"
            ]
          },
          "metadata": {},
          "execution_count": 36
        },
        {
          "output_type": "display_data",
          "data": {
            "text/plain": [
              "<Figure size 600x400 with 1 Axes>"
            ],
            "image/png": "[encoded data removed]"
          },
          "metadata": {}
        }
      ]
    },
    {
      "cell_type": "code",
      "source": [
        "df[df['Panic_Attack']=='Yes']['Course'].value_counts().nlargest(5)"
      ],
      "metadata": {
        "execution": {
          "iopub.status.busy": "2023-02-21T14:42:39.397128Z",
          "iopub.execute_input": "2023-02-21T14:42:39.397513Z",
          "iopub.status.idle": "2023-02-21T14:42:39.410306Z",
          "shell.execute_reply.started": "2023-02-21T14:42:39.39748Z",
          "shell.execute_reply": "2023-02-21T14:42:39.409104Z"
        },
        "trusted": true,
        "colab": {
          "base_uri": "https://localhost:8080/"
        },
        "id": "ZaolO09WaPwU",
        "outputId": "d4ab106b-8354-4e22-cb94-6858e614a6e9"
      },
      "execution_count": 37,
      "outputs": [
        {
          "output_type": "execute_result",
          "data": {
            "text/plain": [
              "Engineering    6\n",
              "BCS            5\n",
              "IT             5\n",
              "MHSC           1\n",
              "Fiqh           1\n",
              "Name: Course, dtype: int64"
            ]
          },
          "metadata": {},
          "execution_count": 37
        }
      ]
    },
    {
      "cell_type": "markdown",
      "source": [
        "Engineering students suffer mostly from panic attacks"
      ],
      "metadata": {
        "id": "bfuw_A1vaPwV"
      }
    },
    {
      "cell_type": "code",
      "source": [
        "df[['Gender','Panic_Attack']].value_counts()"
      ],
      "metadata": {
        "execution": {
          "iopub.status.busy": "2023-02-21T14:42:39.411581Z",
          "iopub.execute_input": "2023-02-21T14:42:39.412878Z",
          "iopub.status.idle": "2023-02-21T14:42:39.426542Z",
          "shell.execute_reply.started": "2023-02-21T14:42:39.412835Z",
          "shell.execute_reply": "2023-02-21T14:42:39.425149Z"
        },
        "trusted": true,
        "colab": {
          "base_uri": "https://localhost:8080/"
        },
        "id": "WaWCjiUPaPwV",
        "outputId": "66356737-168d-4215-b5f5-95b0251a012a"
      },
      "execution_count": 38,
      "outputs": [
        {
          "output_type": "execute_result",
          "data": {
            "text/plain": [
              "Gender  Panic_Attack\n",
              "Female  No              50\n",
              "        Yes             25\n",
              "Male    No              18\n",
              "        Yes              8\n",
              "dtype: int64"
            ]
          },
          "metadata": {},
          "execution_count": 38
        }
      ]
    },
    {
      "cell_type": "markdown",
      "source": [
        "Females are more prone to Panic attacks than men"
      ],
      "metadata": {
        "id": "7v7CPnOcaPwW"
      }
    },
    {
      "cell_type": "markdown",
      "source": [
        "# Mental Health in general"
      ],
      "metadata": {
        "id": "4TPdZsnanRYf"
      }
    },
    {
      "cell_type": "code",
      "source": [
        "def problem(dataframe):\n",
        "    list = ['Depression','Anxiety','Panic_Attack']\n",
        "    for i in list:\n",
        "        print(df[['Year',i]].groupby('Year')[i].value_counts())\n",
        "        print('\\n')\n",
        "\n",
        "problem(df)"
      ],
      "metadata": {
        "execution": {
          "iopub.status.busy": "2023-02-21T14:42:39.428861Z",
          "iopub.execute_input": "2023-02-21T14:42:39.429665Z",
          "iopub.status.idle": "2023-02-21T14:42:39.45003Z",
          "shell.execute_reply.started": "2023-02-21T14:42:39.42961Z",
          "shell.execute_reply": "2023-02-21T14:42:39.448828Z"
        },
        "trusted": true,
        "colab": {
          "base_uri": "https://localhost:8080/"
        },
        "id": "RFL9aTeraPwW",
        "outputId": "980868fc-6f46-419d-c598-a5434146fec4"
      },
      "execution_count": 39,
      "outputs": [
        {
          "output_type": "stream",
          "name": "stdout",
          "text": [
            "Year  Depression\n",
            "1     No            29\n",
            "      Yes           14\n",
            "2     No            16\n",
            "      Yes           10\n",
            "3     No            14\n",
            "      Yes           10\n",
            "4     No             7\n",
            "      Yes            1\n",
            "Name: Depression, dtype: int64\n",
            "\n",
            "\n",
            "Year  Anxiety\n",
            "1     No         29\n",
            "      Yes        14\n",
            "2     No         16\n",
            "      Yes        10\n",
            "3     No         16\n",
            "      Yes         8\n",
            "4     No          6\n",
            "      Yes         2\n",
            "Name: Anxiety, dtype: int64\n",
            "\n",
            "\n",
            "Year  Panic_Attack\n",
            "1     No              29\n",
            "      Yes             14\n",
            "2     No              18\n",
            "      Yes              8\n",
            "3     No              14\n",
            "      Yes             10\n",
            "4     No               7\n",
            "      Yes              1\n",
            "Name: Panic_Attack, dtype: int64\n",
            "\n",
            "\n"
          ]
        }
      ]
    },
    {
      "cell_type": "markdown",
      "source": [
        "So mostly students in first year suffer from Mental Health.It is found that all the students in first year who had taken the survey suffers from  Anxiety , Depression , Panic Attacks\n",
        "\n",
        "Final Year (year = 4) students are least prone to Anxiety , Depression ,Panic Attacks .\n",
        "\n",
        "Depression ,Panic Attacks decreases from year = 1 to year = 4 but data shows that anxiety remains the same in the students of year = 2,3"
      ],
      "metadata": {
        "id": "zKvUYTd0aPwX"
      }
    },
    {
      "cell_type": "markdown",
      "source": [
        "## Effect of CGPA on Mental Health"
      ],
      "metadata": {
        "id": "crjfzofGaPwe"
      }
    },
    {
      "cell_type": "code",
      "source": [
        "plot_2 = sns.countplot(x='CGPA',data=df_1,hue='Depression')\n",
        "plot_2.set_title('Count of CGPA by Depression')"
      ],
      "metadata": {
        "execution": {
          "iopub.status.busy": "2023-02-21T14:42:40.477344Z",
          "iopub.execute_input": "2023-02-21T14:42:40.477731Z",
          "iopub.status.idle": "2023-02-21T14:42:40.708574Z",
          "shell.execute_reply.started": "2023-02-21T14:42:40.477696Z",
          "shell.execute_reply": "2023-02-21T14:42:40.707301Z"
        },
        "trusted": true,
        "colab": {
          "base_uri": "https://localhost:8080/",
          "height": 489
        },
        "id": "8yTFNmPqaPwf",
        "outputId": "63438703-442e-43c4-9148-ebfb77eaff77"
      },
      "execution_count": 48,
      "outputs": [
        {
          "output_type": "execute_result",
          "data": {
            "text/plain": [
              "Text(0.5, 1.0, 'Count of CGPA by Depression')"
            ]
          },
          "metadata": {},
          "execution_count": 48
        },
        {
          "output_type": "display_data",
          "data": {
            "text/plain": [
              "<Figure size 640x480 with 1 Axes>"
            ],
            "image/png": "[encoded data removed]"
          },
          "metadata": {}
        }
      ]
    },
    {
      "cell_type": "markdown",
      "source": [
        "Students securing highest CGPA = 3 to 3.19 suffers from max Depression while students securing CGPA = 2 to 2.49 , 0 to 1.99 have no depression\n",
        "\n",
        "Most of the students securing high CGPA doen't suffer from depression\n",
        "\n",
        "Within CGPA = 2.5 to 2.99 most of the students suffers from depression"
      ],
      "metadata": {
        "id": "frEseC7oaPwf"
      }
    },
    {
      "cell_type": "code",
      "source": [
        "sns.countplot(x='CGPA',data=df_1,hue='Anxiety')"
      ],
      "metadata": {
        "execution": {
          "iopub.status.busy": "2023-02-21T14:42:40.710471Z",
          "iopub.execute_input": "2023-02-21T14:42:40.711168Z",
          "iopub.status.idle": "2023-02-21T14:42:40.930005Z",
          "shell.execute_reply.started": "2023-02-21T14:42:40.711083Z",
          "shell.execute_reply": "2023-02-21T14:42:40.929079Z"
        },
        "trusted": true,
        "colab": {
          "base_uri": "https://localhost:8080/",
          "height": 466
        },
        "id": "YEmryx1VaPwg",
        "outputId": "f09cff64-c6f9-47f0-dfb0-2c4e59342dd9"
      },
      "execution_count": 49,
      "outputs": [
        {
          "output_type": "execute_result",
          "data": {
            "text/plain": [
              "<Axes: xlabel='CGPA', ylabel='count'>"
            ]
          },
          "metadata": {},
          "execution_count": 49
        },
        {
          "output_type": "display_data",
          "data": {
            "text/plain": [
              "<Figure size 640x480 with 1 Axes>"
            ],
            "image/png": "[encoded data removed]"
          },
          "metadata": {}
        }
      ]
    },
    {
      "cell_type": "markdown",
      "source": [
        "Almost equal no of students suffers from Anxiety having CGPA = 3 to 3.49 and 3.5 to\n",
        "\n",
        "Students securing CGPA = 2 to 2.49 , 0 to 1.99 have no Anxiety\n",
        "\n"
      ],
      "metadata": {
        "id": "8otx2bRhaPwg"
      }
    },
    {
      "cell_type": "code",
      "source": [
        "sns.countplot(x='CGPA',data=df_1,hue='Panic_Attack')"
      ],
      "metadata": {
        "execution": {
          "iopub.status.busy": "2023-02-21T14:42:40.931517Z",
          "iopub.execute_input": "2023-02-21T14:42:40.932241Z",
          "iopub.status.idle": "2023-02-21T14:42:41.163623Z",
          "shell.execute_reply.started": "2023-02-21T14:42:40.932198Z",
          "shell.execute_reply": "2023-02-21T14:42:41.162441Z"
        },
        "trusted": true,
        "colab": {
          "base_uri": "https://localhost:8080/",
          "height": 466
        },
        "id": "8P2fDxC2aPwh",
        "outputId": "eb42f42e-55af-4481-a7ef-d2f024bd5219"
      },
      "execution_count": 50,
      "outputs": [
        {
          "output_type": "execute_result",
          "data": {
            "text/plain": [
              "<Axes: xlabel='CGPA', ylabel='count'>"
            ]
          },
          "metadata": {},
          "execution_count": 50
        },
        {
          "output_type": "display_data",
          "data": {
            "text/plain": [
              "<Figure size 640x480 with 1 Axes>"
            ],
            "image/png": "[encoded data removed]"
          },
          "metadata": {}
        }
      ]
    },
    {
      "cell_type": "markdown",
      "source": [
        "Every student irrespeective of CGPA suffers from panic attack\n",
        "\n",
        "Students having CGPA = 2.5 to 2.99 suffers mostly from Panic Attacks\n",
        "\n",
        "\n",
        "\n"
      ],
      "metadata": {
        "id": "IJ3KBuXJaPwh"
      }
    },
    {
      "cell_type": "markdown",
      "source": [
        "# Encoding the Categorical Features"
      ],
      "metadata": {
        "id": "Alh4yZeBaPwm"
      }
    },
    {
      "cell_type": "code",
      "source": [
        "df_2 = df_1.drop('Date_Time',axis=1) # Date_Time only shows the time at which the survey was being taken\n",
        "enc = preprocessing.LabelEncoder()\n",
        "cat_features = df_2.select_dtypes(include=['object']).columns.tolist()\n",
        "for feature in cat_features:\n",
        "    df_2[feature] = enc.fit_transform(df_2[feature])"
      ],
      "metadata": {
        "execution": {
          "iopub.status.busy": "2023-02-21T14:42:42.032013Z",
          "iopub.execute_input": "2023-02-21T14:42:42.032511Z",
          "iopub.status.idle": "2023-02-21T14:42:42.053061Z",
          "shell.execute_reply.started": "2023-02-21T14:42:42.032464Z",
          "shell.execute_reply": "2023-02-21T14:42:42.052067Z"
        },
        "trusted": true,
        "id": "2jBzC0O3aPwn"
      },
      "execution_count": 55,
      "outputs": []
    },
    {
      "cell_type": "code",
      "source": [
        "df_2 # Encoded the categorial feature labels"
      ],
      "metadata": {
        "execution": {
          "iopub.status.busy": "2023-02-21T14:42:42.088Z",
          "iopub.execute_input": "2023-02-21T14:42:42.089141Z",
          "iopub.status.idle": "2023-02-21T14:42:42.113187Z",
          "shell.execute_reply.started": "2023-02-21T14:42:42.089067Z",
          "shell.execute_reply": "2023-02-21T14:42:42.112354Z"
        },
        "trusted": true,
        "colab": {
          "base_uri": "https://localhost:8080/",
          "height": 423
        },
        "id": "zkIyEGeMaPwo",
        "outputId": "fe1c1985-ff61-4401-d101-2bde59757d9c"
      },
      "execution_count": 57,
      "outputs": [
        {
          "output_type": "execute_result",
          "data": {
            "text/plain": [
              "     Gender   Age  Course  Year  CGPA  Marital_Status  Depression  Anxiety  \\\n",
              "0         0  18.0      14     1     3               0           1        0   \n",
              "1         1  21.0      20     2     3               0           0        1   \n",
              "2         1  19.0      18     1     3               0           1        1   \n",
              "3         0  22.0      25     3     3               1           1        0   \n",
              "4         1  23.0      29     4     3               0           0        0   \n",
              "..      ...   ...     ...   ...   ...             ...         ...      ...   \n",
              "96        0  21.0       2     1     4               0           0        1   \n",
              "97        1  18.0      14     2     3               0           1        1   \n",
              "98        0  19.0      30     3     4               1           1        0   \n",
              "99        0  23.0      31     4     4               0           0        0   \n",
              "100       1  20.0       5     2     3               0           0        0   \n",
              "\n",
              "     Panic_Attack  Treatment  \n",
              "0               1          0  \n",
              "1               0          0  \n",
              "2               1          0  \n",
              "3               0          0  \n",
              "4               0          0  \n",
              "..            ...        ...  \n",
              "96              0          0  \n",
              "97              0          0  \n",
              "98              1          0  \n",
              "99              0          0  \n",
              "100             0          0  \n",
              "\n",
              "[100 rows x 10 columns]"
            ],
            "text/html": [
              "\n",
              "  <div id=\"df-b3185958-d88f-41f0-aa31-839fe672a40c\" class=\"colab-df-container\">\n",
              "    <div>\n",
              "<style scoped>\n",
              "    .dataframe tbody tr th:only-of-type {\n",
              "        vertical-align: middle;\n",
              "    }\n",
              "\n",
              "    .dataframe tbody tr th {\n",
              "        vertical-align: top;\n",
              "    }\n",
              "\n",
              "    .dataframe thead th {\n",
              "        text-align: right;\n",
              "    }\n",
              "</style>\n",
              "<table border=\"1\" class=\"dataframe\">\n",
              "  <thead>\n",
              "    <tr style=\"text-align: right;\">\n",
              "      <th></th>\n",
              "      <th>Gender</th>\n",
              "      <th>Age</th>\n",
              "      <th>Course</th>\n",
              "      <th>Year</th>\n",
              "      <th>CGPA</th>\n",
              "      <th>Marital_Status</th>\n",
              "      <th>Depression</th>\n",
              "      <th>Anxiety</th>\n",
              "      <th>Panic_Attack</th>\n",
              "      <th>Treatment</th>\n",
              "    </tr>\n",
              "  </thead>\n",
              "  <tbody>\n",
              "    <tr>\n",
              "      <th>0</th>\n",
              "      <td>0</td>\n",
              "      <td>18.0</td>\n",
              "      <td>14</td>\n",
              "      <td>1</td>\n",
              "      <td>3</td>\n",
              "      <td>0</td>\n",
              "      <td>1</td>\n",
              "      <td>0</td>\n",
              "      <td>1</td>\n",
              "      <td>0</td>\n",
              "    </tr>\n",
              "    <tr>\n",
              "      <th>1</th>\n",
              "      <td>1</td>\n",
              "      <td>21.0</td>\n",
              "      <td>20</td>\n",
              "      <td>2</td>\n",
              "      <td>3</td>\n",
              "      <td>0</td>\n",
              "      <td>0</td>\n",
              "      <td>1</td>\n",
              "      <td>0</td>\n",
              "      <td>0</td>\n",
              "    </tr>\n",
              "    <tr>\n",
              "      <th>2</th>\n",
              "      <td>1</td>\n",
              "      <td>19.0</td>\n",
              "      <td>18</td>\n",
              "      <td>1</td>\n",
              "      <td>3</td>\n",
              "      <td>0</td>\n",
              "      <td>1</td>\n",
              "      <td>1</td>\n",
              "      <td>1</td>\n",
              "      <td>0</td>\n",
              "    </tr>\n",
              "    <tr>\n",
              "      <th>3</th>\n",
              "      <td>0</td>\n",
              "      <td>22.0</td>\n",
              "      <td>25</td>\n",
              "      <td>3</td>\n",
              "      <td>3</td>\n",
              "      <td>1</td>\n",
              "      <td>1</td>\n",
              "      <td>0</td>\n",
              "      <td>0</td>\n",
              "      <td>0</td>\n",
              "    </tr>\n",
              "    <tr>\n",
              "      <th>4</th>\n",
              "      <td>1</td>\n",
              "      <td>23.0</td>\n",
              "      <td>29</td>\n",
              "      <td>4</td>\n",
              "      <td>3</td>\n",
              "      <td>0</td>\n",
              "      <td>0</td>\n",
              "      <td>0</td>\n",
              "      <td>0</td>\n",
              "      <td>0</td>\n",
              "    </tr>\n",
              "    <tr>\n",
              "      <th>...</th>\n",
              "      <td>...</td>\n",
              "      <td>...</td>\n",
              "      <td>...</td>\n",
              "      <td>...</td>\n",
              "      <td>...</td>\n",
              "      <td>...</td>\n",
              "      <td>...</td>\n",
              "      <td>...</td>\n",
              "      <td>...</td>\n",
              "      <td>...</td>\n",
              "    </tr>\n",
              "    <tr>\n",
              "      <th>96</th>\n",
              "      <td>0</td>\n",
              "      <td>21.0</td>\n",
              "      <td>2</td>\n",
              "      <td>1</td>\n",
              "      <td>4</td>\n",
              "      <td>0</td>\n",
              "      <td>0</td>\n",
              "      <td>1</td>\n",
              "      <td>0</td>\n",
              "      <td>0</td>\n",
              "    </tr>\n",
              "    <tr>\n",
              "      <th>97</th>\n",
              "      <td>1</td>\n",
              "      <td>18.0</td>\n",
              "      <td>14</td>\n",
              "      <td>2</td>\n",
              "      <td>3</td>\n",
              "      <td>0</td>\n",
              "      <td>1</td>\n",
              "      <td>1</td>\n",
              "      <td>0</td>\n",
              "      <td>0</td>\n",
              "    </tr>\n",
              "    <tr>\n",
              "      <th>98</th>\n",
              "      <td>0</td>\n",
              "      <td>19.0</td>\n",
              "      <td>30</td>\n",
              "      <td>3</td>\n",
              "      <td>4</td>\n",
              "      <td>1</td>\n",
              "      <td>1</td>\n",
              "      <td>0</td>\n",
              "      <td>1</td>\n",
              "      <td>0</td>\n",
              "    </tr>\n",
              "    <tr>\n",
              "      <th>99</th>\n",
              "      <td>0</td>\n",
              "      <td>23.0</td>\n",
              "      <td>31</td>\n",
              "      <td>4</td>\n",
              "      <td>4</td>\n",
              "      <td>0</td>\n",
              "      <td>0</td>\n",
              "      <td>0</td>\n",
              "      <td>0</td>\n",
              "      <td>0</td>\n",
              "    </tr>\n",
              "    <tr>\n",
              "      <th>100</th>\n",
              "      <td>1</td>\n",
              "      <td>20.0</td>\n",
              "      <td>5</td>\n",
              "      <td>2</td>\n",
              "      <td>3</td>\n",
              "      <td>0</td>\n",
              "      <td>0</td>\n",
              "      <td>0</td>\n",
              "      <td>0</td>\n",
              "      <td>0</td>\n",
              "    </tr>\n",
              "  </tbody>\n",
              "</table>\n",
              "<p>100 rows × 10 columns</p>\n",
              "</div>\n",
              "    <div class=\"colab-df-buttons\">\n",
              "\n",
              "  <div class=\"colab-df-container\">\n",
              "    <button class=\"colab-df-convert\" onclick=\"convertToInteractive('df-b3185958-d88f-41f0-aa31-839fe672a40c')\"\n",
              "            title=\"Convert this dataframe to an interactive table.\"\n",
              "            style=\"display:none;\">\n",
              "\n",
              "  <svg xmlns=\"http://www.w3.org/2000/svg\" height=\"24px\" viewBox=\"0 -960 960 960\">\n",
              "    <path d=\"M120-120v-720h720v720H120Zm60-500h600v-160H180v160Zm220 220h160v-160H400v160Zm0 220h160v-160H400v160ZM180-400h160v-160H180v160Zm440 0h160v-160H620v160ZM180-180h160v-160H180v160Zm440 0h160v-160H620v160Z\"/>\n",
              "  </svg>\n",
              "    </button>\n",
              "\n",
              "  <style>\n",
              "    .colab-df-container {\n",
              "      display:flex;\n",
              "      gap: 12px;\n",
              "    }\n",
              "\n",
              "    .colab-df-convert {\n",
              "      background-color: #E8F0FE;\n",
              "      border: none;\n",
              "      border-radius: 50%;\n",
              "      cursor: pointer;\n",
              "      display: none;\n",
              "      fill: #1967D2;\n",
              "      height: 32px;\n",
              "      padding: 0 0 0 0;\n",
              "      width: 32px;\n",
              "    }\n",
              "\n",
              "    .colab-df-convert:hover {\n",
              "      background-color: #E2EBFA;\n",
              "      box-shadow: 0px 1px 2px rgba(60, 64, 67, 0.3), 0px 1px 3px 1px rgba(60, 64, 67, 0.15);\n",
              "      fill: #174EA6;\n",
              "    }\n",
              "\n",
              "    .colab-df-buttons div {\n",
              "      margin-bottom: 4px;\n",
              "    }\n",
              "\n",
              "    [theme=dark] .colab-df-convert {\n",
              "      background-color: #3B4455;\n",
              "      fill: #D2E3FC;\n",
              "    }\n",
              "\n",
              "    [theme=dark] .colab-df-convert:hover {\n",
              "      background-color: #434B5C;\n",
              "      box-shadow: 0px 1px 3px 1px rgba(0, 0, 0, 0.15);\n",
              "      filter: drop-shadow(0px 1px 2px rgba(0, 0, 0, 0.3));\n",
              "      fill: #FFFFFF;\n",
              "    }\n",
              "  </style>\n",
              "\n",
              "    <script>\n",
              "      const buttonEl =\n",
              "        document.querySelector('#df-b3185958-d88f-41f0-aa31-839fe672a40c button.colab-df-convert');\n",
              "      buttonEl.style.display =\n",
              "        google.colab.kernel.accessAllowed ? 'block' : 'none';\n",
              "\n",
              "      async function convertToInteractive(key) {\n",
              "        const element = document.querySelector('#df-b3185958-d88f-41f0-aa31-839fe672a40c');\n",
              "        const dataTable =\n",
              "          await google.colab.kernel.invokeFunction('convertToInteractive',\n",
              "                                                    [key], {});\n",
              "        if (!dataTable) return;\n",
              "\n",
              "        const docLinkHtml = 'Like what you see? Visit the ' +\n",
              "          '<a target=\"_blank\" href=https://colab.research.google.com/notebooks/data_table.ipynb>data table notebook</a>'\n",
              "          + ' to learn more about interactive tables.';\n",
              "        element.innerHTML = '';\n",
              "        dataTable['output_type'] = 'display_data';\n",
              "        await google.colab.output.renderOutput(dataTable, element);\n",
              "        const docLink = document.createElement('div');\n",
              "        docLink.innerHTML = docLinkHtml;\n",
              "        element.appendChild(docLink);\n",
              "      }\n",
              "    </script>\n",
              "  </div>\n",
              "\n",
              "\n",
              "<div id=\"df-46386eaf-9646-4d48-a09d-cd83d4cdb849\">\n",
              "  <button class=\"colab-df-quickchart\" onclick=\"quickchart('df-46386eaf-9646-4d48-a09d-cd83d4cdb849')\"\n",
              "            title=\"Suggest charts.\"\n",
              "            style=\"display:none;\">\n",
              "\n",
              "<svg xmlns=\"http://www.w3.org/2000/svg\" height=\"24px\"viewBox=\"0 0 24 24\"\n",
              "     width=\"24px\">\n",
              "    <g>\n",
              "        <path d=\"M19 3H5c-1.1 0-2 .9-2 2v14c0 1.1.9 2 2 2h14c1.1 0 2-.9 2-2V5c0-1.1-.9-2-2-2zM9 17H7v-7h2v7zm4 0h-2V7h2v10zm4 0h-2v-4h2v4z\"/>\n",
              "    </g>\n",
              "</svg>\n",
              "  </button>\n",
              "\n",
              "<style>\n",
              "  .colab-df-quickchart {\n",
              "      --bg-color: #E8F0FE;\n",
              "      --fill-color: #1967D2;\n",
              "      --hover-bg-color: #E2EBFA;\n",
              "      --hover-fill-color: #174EA6;\n",
              "      --disabled-fill-color: #AAA;\n",
              "      --disabled-bg-color: #DDD;\n",
              "  }\n",
              "\n",
              "  [theme=dark] .colab-df-quickchart {\n",
              "      --bg-color: #3B4455;\n",
              "      --fill-color: #D2E3FC;\n",
              "      --hover-bg-color: #434B5C;\n",
              "      --hover-fill-color: #FFFFFF;\n",
              "      --disabled-bg-color: #3B4455;\n",
              "      --disabled-fill-color: #666;\n",
              "  }\n",
              "\n",
              "  .colab-df-quickchart {\n",
              "    background-color: var(--bg-color);\n",
              "    border: none;\n",
              "    border-radius: 50%;\n",
              "    cursor: pointer;\n",
              "    display: none;\n",
              "    fill: var(--fill-color);\n",
              "    height: 32px;\n",
              "    padding: 0;\n",
              "    width: 32px;\n",
              "  }\n",
              "\n",
              "  .colab-df-quickchart:hover {\n",
              "    background-color: var(--hover-bg-color);\n",
              "    box-shadow: 0 1px 2px rgba(60, 64, 67, 0.3), 0 1px 3px 1px rgba(60, 64, 67, 0.15);\n",
              "    fill: var(--button-hover-fill-color);\n",
              "  }\n",
              "\n",
              "  .colab-df-quickchart-complete:disabled,\n",
              "  .colab-df-quickchart-complete:disabled:hover {\n",
              "    background-color: var(--disabled-bg-color);\n",
              "    fill: var(--disabled-fill-color);\n",
              "    box-shadow: none;\n",
              "  }\n",
              "\n",
              "  .colab-df-spinner {\n",
              "    border: 2px solid var(--fill-color);\n",
              "    border-color: transparent;\n",
              "    border-bottom-color: var(--fill-color);\n",
              "    animation:\n",
              "      spin 1s steps(1) infinite;\n",
              "  }\n",
              "\n",
              "  @keyframes spin {\n",
              "    0% {\n",
              "      border-color: transparent;\n",
              "      border-bottom-color: var(--fill-color);\n",
              "      border-left-color: var(--fill-color);\n",
              "    }\n",
              "    20% {\n",
              "      border-color: transparent;\n",
              "      border-left-color: var(--fill-color);\n",
              "      border-top-color: var(--fill-color);\n",
              "    }\n",
              "    30% {\n",
              "      border-color: transparent;\n",
              "      border-left-color: var(--fill-color);\n",
              "      border-top-color: var(--fill-color);\n",
              "      border-right-color: var(--fill-color);\n",
              "    }\n",
              "    40% {\n",
              "      border-color: transparent;\n",
              "      border-right-color: var(--fill-color);\n",
              "      border-top-color: var(--fill-color);\n",
              "    }\n",
              "    60% {\n",
              "      border-color: transparent;\n",
              "      border-right-color: var(--fill-color);\n",
              "    }\n",
              "    80% {\n",
              "      border-color: transparent;\n",
              "      border-right-color: var(--fill-color);\n",
              "      border-bottom-color: var(--fill-color);\n",
              "    }\n",
              "    90% {\n",
              "      border-color: transparent;\n",
              "      border-bottom-color: var(--fill-color);\n",
              "    }\n",
              "  }\n",
              "</style>\n",
              "\n",
              "  <script>\n",
              "    async function quickchart(key) {\n",
              "      const quickchartButtonEl =\n",
              "        document.querySelector('#' + key + ' button');\n",
              "      quickchartButtonEl.disabled = true;  // To prevent multiple clicks.\n",
              "      quickchartButtonEl.classList.add('colab-df-spinner');\n",
              "      try {\n",
              "        const charts = await google.colab.kernel.invokeFunction(\n",
              "            'suggestCharts', [key], {});\n",
              "      } catch (error) {\n",
              "        console.error('Error during call to suggestCharts:', error);\n",
              "      }\n",
              "      quickchartButtonEl.classList.remove('colab-df-spinner');\n",
              "      quickchartButtonEl.classList.add('colab-df-quickchart-complete');\n",
              "    }\n",
              "    (() => {\n",
              "      let quickchartButtonEl =\n",
              "        document.querySelector('#df-46386eaf-9646-4d48-a09d-cd83d4cdb849 button');\n",
              "      quickchartButtonEl.style.display =\n",
              "        google.colab.kernel.accessAllowed ? 'block' : 'none';\n",
              "    })();\n",
              "  </script>\n",
              "</div>\n",
              "    </div>\n",
              "  </div>\n"
            ]
          },
          "metadata": {},
          "execution_count": 57
        }
      ]
    },
    {
      "cell_type": "code",
      "source": [
        "plt.figure(figsize=(6,4))\n",
        "cor_mat = df_2.corr(method='pearson')\n",
        "sns.heatmap(cor_mat,annot=True)"
      ],
      "metadata": {
        "execution": {
          "iopub.status.busy": "2023-02-21T14:42:42.114651Z",
          "iopub.execute_input": "2023-02-21T14:42:42.115649Z",
          "iopub.status.idle": "2023-02-21T14:42:42.981344Z",
          "shell.execute_reply.started": "2023-02-21T14:42:42.115611Z",
          "shell.execute_reply": "2023-02-21T14:42:42.979901Z"
        },
        "trusted": true,
        "colab": {
          "base_uri": "https://localhost:8080/",
          "height": 476
        },
        "id": "UugI8e_faPwp",
        "outputId": "0b99cfd4-62e0-434d-c804-17735ae7c6ff"
      },
      "execution_count": 59,
      "outputs": [
        {
          "output_type": "execute_result",
          "data": {
            "text/plain": [
              "<Axes: >"
            ]
          },
          "metadata": {},
          "execution_count": 59
        },
        {
          "output_type": "display_data",
          "data": {
            "text/plain": [
              "<Figure size 600x400 with 2 Axes>"
            ],
            "image/png": "[encoded data removed]"
          },
          "metadata": {}
        }
      ]
    },
    {
      "cell_type": "markdown",
      "source": [
        "Shows that the marital status and depression are highly corellated"
      ],
      "metadata": {
        "id": "G4-4RvDmaPwp"
      }
    },
    {
      "cell_type": "code",
      "source": [
        "def func(dataframe):\n",
        "    dep = ['Anxiety','Depression','Panic_Attack']\n",
        "    for d in dep:\n",
        "        print(f'\\n---------{d}--------')\n",
        "        print(dataframe[['Marital_Status',d]].groupby(d)['Marital_Status'].value_counts())\n",
        "        print('\\n')\n",
        "\n",
        "func(df_1)"
      ],
      "metadata": {
        "execution": {
          "iopub.status.busy": "2023-02-21T14:42:57.501517Z",
          "iopub.execute_input": "2023-02-21T14:42:57.50202Z",
          "iopub.status.idle": "2023-02-21T14:42:57.52554Z",
          "shell.execute_reply.started": "2023-02-21T14:42:57.501977Z",
          "shell.execute_reply": "2023-02-21T14:42:57.524232Z"
        },
        "trusted": true,
        "colab": {
          "base_uri": "https://localhost:8080/"
        },
        "id": "o6w_UtBpaPwr",
        "outputId": "3e416e5c-0ea7-49fb-fffb-990e0071eb10"
      },
      "execution_count": 62,
      "outputs": [
        {
          "output_type": "stream",
          "name": "stdout",
          "text": [
            "\n",
            "---------Anxiety--------\n",
            "Anxiety  Marital_Status\n",
            "No       No                57\n",
            "         Yes                9\n",
            "Yes      No                27\n",
            "         Yes                7\n",
            "Name: Marital_Status, dtype: int64\n",
            "\n",
            "\n",
            "\n",
            "---------Depression--------\n",
            "Depression  Marital_Status\n",
            "No          No                65\n",
            "Yes         No                19\n",
            "            Yes               16\n",
            "Name: Marital_Status, dtype: int64\n",
            "\n",
            "\n",
            "\n",
            "---------Panic_Attack--------\n",
            "Panic_Attack  Marital_Status\n",
            "No            No                61\n",
            "              Yes                6\n",
            "Yes           No                23\n",
            "              Yes               10\n",
            "Name: Marital_Status, dtype: int64\n",
            "\n",
            "\n"
          ]
        }
      ]
    },
    {
      "cell_type": "markdown",
      "source": [
        "For Anxiety : 7 out of 16 married students have anxiety\n",
        "\n",
        "For Depression : 16 out of 16 married students have depression\n",
        "\n",
        "Forr Panic Attack : 10 out of 16 married students have Panic attacks\n",
        "\n",
        "\n",
        "Conclusion : Married students mostly have poor mental health"
      ],
      "metadata": {
        "id": "Hunfk9toaPwr"
      }
    },
    {
      "cell_type": "markdown",
      "source": [],
      "metadata": {
        "id": "wrknQr48aPws"
      }
    },
    {
      "cell_type": "code",
      "source": [
        "df_1"
      ],
      "metadata": {
        "execution": {
          "iopub.status.busy": "2023-02-21T14:42:57.527087Z",
          "iopub.execute_input": "2023-02-21T14:42:57.527599Z",
          "iopub.status.idle": "2023-02-21T14:42:57.562556Z",
          "shell.execute_reply.started": "2023-02-21T14:42:57.527527Z",
          "shell.execute_reply": "2023-02-21T14:42:57.561366Z"
        },
        "trusted": true,
        "colab": {
          "base_uri": "https://localhost:8080/",
          "height": 423
        },
        "id": "NUCO24-raPws",
        "outputId": "b572b314-5e9c-4a33-a040-03ee769948b2"
      },
      "execution_count": 63,
      "outputs": [
        {
          "output_type": "execute_result",
          "data": {
            "text/plain": [
              "               Date_Time  Gender   Age              Course  Year         CGPA  \\\n",
              "0         8/7/2020 12:02  Female  18.0         Engineering     1  3.00 - 3.49   \n",
              "1         8/7/2020 12:04    Male  21.0   Islamic Education     2  3.00 - 3.49   \n",
              "2         8/7/2020 12:05    Male  19.0                  IT     1  3.00 - 3.49   \n",
              "3         8/7/2020 12:06  Female  22.0                 Law     3  3.00 - 3.49   \n",
              "4         8/7/2020 12:13    Male  23.0        Mathemathics     4  3.00 - 3.49   \n",
              "..                   ...     ...   ...                 ...   ...          ...   \n",
              "96   13/07/2020 19:56:49  Female  21.0                 BCS     1  3.50 - 4.00   \n",
              "97   13/07/2020 21:21:42    Male  18.0         Engineering     2  3.00 - 3.49   \n",
              "98   13/07/2020 21:22:56  Female  19.0            Nursing      3  3.50 - 4.00   \n",
              "99   13/07/2020 21:23:57  Female  23.0    Pendidikan Islam     4  3.50 - 4.00   \n",
              "100  18/07/2020 20:16:21    Male  20.0  Biomedical science     2  3.00 - 3.49   \n",
              "\n",
              "    Marital_Status Depression Anxiety Panic_Attack Treatment  \n",
              "0               No        Yes      No          Yes        No  \n",
              "1               No         No     Yes           No        No  \n",
              "2               No        Yes     Yes          Yes        No  \n",
              "3              Yes        Yes      No           No        No  \n",
              "4               No         No      No           No        No  \n",
              "..             ...        ...     ...          ...       ...  \n",
              "96              No         No     Yes           No        No  \n",
              "97              No        Yes     Yes           No        No  \n",
              "98             Yes        Yes      No          Yes        No  \n",
              "99              No         No      No           No        No  \n",
              "100             No         No      No           No        No  \n",
              "\n",
              "[100 rows x 11 columns]"
            ],
            "text/html": [
              "\n",
              "  <div id=\"df-093afb8d-10fc-419d-9575-a8b6dc77e2f8\" class=\"colab-df-container\">\n",
              "    <div>\n",
              "<style scoped>\n",
              "    .dataframe tbody tr th:only-of-type {\n",
              "        vertical-align: middle;\n",
              "    }\n",
              "\n",
              "    .dataframe tbody tr th {\n",
              "        vertical-align: top;\n",
              "    }\n",
              "\n",
              "    .dataframe thead th {\n",
              "        text-align: right;\n",
              "    }\n",
              "</style>\n",
              "<table border=\"1\" class=\"dataframe\">\n",
              "  <thead>\n",
              "    <tr style=\"text-align: right;\">\n",
              "      <th></th>\n",
              "      <th>Date_Time</th>\n",
              "      <th>Gender</th>\n",
              "      <th>Age</th>\n",
              "      <th>Course</th>\n",
              "      <th>Year</th>\n",
              "      <th>CGPA</th>\n",
              "      <th>Marital_Status</th>\n",
              "      <th>Depression</th>\n",
              "      <th>Anxiety</th>\n",
              "      <th>Panic_Attack</th>\n",
              "      <th>Treatment</th>\n",
              "    </tr>\n",
              "  </thead>\n",
              "  <tbody>\n",
              "    <tr>\n",
              "      <th>0</th>\n",
              "      <td>8/7/2020 12:02</td>\n",
              "      <td>Female</td>\n",
              "      <td>18.0</td>\n",
              "      <td>Engineering</td>\n",
              "      <td>1</td>\n",
              "      <td>3.00 - 3.49</td>\n",
              "      <td>No</td>\n",
              "      <td>Yes</td>\n",
              "      <td>No</td>\n",
              "      <td>Yes</td>\n",
              "      <td>No</td>\n",
              "    </tr>\n",
              "    <tr>\n",
              "      <th>1</th>\n",
              "      <td>8/7/2020 12:04</td>\n",
              "      <td>Male</td>\n",
              "      <td>21.0</td>\n",
              "      <td>Islamic Education</td>\n",
              "      <td>2</td>\n",
              "      <td>3.00 - 3.49</td>\n",
              "      <td>No</td>\n",
              "      <td>No</td>\n",
              "      <td>Yes</td>\n",
              "      <td>No</td>\n",
              "      <td>No</td>\n",
              "    </tr>\n",
              "    <tr>\n",
              "      <th>2</th>\n",
              "      <td>8/7/2020 12:05</td>\n",
              "      <td>Male</td>\n",
              "      <td>19.0</td>\n",
              "      <td>IT</td>\n",
              "      <td>1</td>\n",
              "      <td>3.00 - 3.49</td>\n",
              "      <td>No</td>\n",
              "      <td>Yes</td>\n",
              "      <td>Yes</td>\n",
              "      <td>Yes</td>\n",
              "      <td>No</td>\n",
              "    </tr>\n",
              "    <tr>\n",
              "      <th>3</th>\n",
              "      <td>8/7/2020 12:06</td>\n",
              "      <td>Female</td>\n",
              "      <td>22.0</td>\n",
              "      <td>Law</td>\n",
              "      <td>3</td>\n",
              "      <td>3.00 - 3.49</td>\n",
              "      <td>Yes</td>\n",
              "      <td>Yes</td>\n",
              "      <td>No</td>\n",
              "      <td>No</td>\n",
              "      <td>No</td>\n",
              "    </tr>\n",
              "    <tr>\n",
              "      <th>4</th>\n",
              "      <td>8/7/2020 12:13</td>\n",
              "      <td>Male</td>\n",
              "      <td>23.0</td>\n",
              "      <td>Mathemathics</td>\n",
              "      <td>4</td>\n",
              "      <td>3.00 - 3.49</td>\n",
              "      <td>No</td>\n",
              "      <td>No</td>\n",
              "      <td>No</td>\n",
              "      <td>No</td>\n",
              "      <td>No</td>\n",
              "    </tr>\n",
              "    <tr>\n",
              "      <th>...</th>\n",
              "      <td>...</td>\n",
              "      <td>...</td>\n",
              "      <td>...</td>\n",
              "      <td>...</td>\n",
              "      <td>...</td>\n",
              "      <td>...</td>\n",
              "      <td>...</td>\n",
              "      <td>...</td>\n",
              "      <td>...</td>\n",
              "      <td>...</td>\n",
              "      <td>...</td>\n",
              "    </tr>\n",
              "    <tr>\n",
              "      <th>96</th>\n",
              "      <td>13/07/2020 19:56:49</td>\n",
              "      <td>Female</td>\n",
              "      <td>21.0</td>\n",
              "      <td>BCS</td>\n",
              "      <td>1</td>\n",
              "      <td>3.50 - 4.00</td>\n",
              "      <td>No</td>\n",
              "      <td>No</td>\n",
              "      <td>Yes</td>\n",
              "      <td>No</td>\n",
              "      <td>No</td>\n",
              "    </tr>\n",
              "    <tr>\n",
              "      <th>97</th>\n",
              "      <td>13/07/2020 21:21:42</td>\n",
              "      <td>Male</td>\n",
              "      <td>18.0</td>\n",
              "      <td>Engineering</td>\n",
              "      <td>2</td>\n",
              "      <td>3.00 - 3.49</td>\n",
              "      <td>No</td>\n",
              "      <td>Yes</td>\n",
              "      <td>Yes</td>\n",
              "      <td>No</td>\n",
              "      <td>No</td>\n",
              "    </tr>\n",
              "    <tr>\n",
              "      <th>98</th>\n",
              "      <td>13/07/2020 21:22:56</td>\n",
              "      <td>Female</td>\n",
              "      <td>19.0</td>\n",
              "      <td>Nursing</td>\n",
              "      <td>3</td>\n",
              "      <td>3.50 - 4.00</td>\n",
              "      <td>Yes</td>\n",
              "      <td>Yes</td>\n",
              "      <td>No</td>\n",
              "      <td>Yes</td>\n",
              "      <td>No</td>\n",
              "    </tr>\n",
              "    <tr>\n",
              "      <th>99</th>\n",
              "      <td>13/07/2020 21:23:57</td>\n",
              "      <td>Female</td>\n",
              "      <td>23.0</td>\n",
              "      <td>Pendidikan Islam</td>\n",
              "      <td>4</td>\n",
              "      <td>3.50 - 4.00</td>\n",
              "      <td>No</td>\n",
              "      <td>No</td>\n",
              "      <td>No</td>\n",
              "      <td>No</td>\n",
              "      <td>No</td>\n",
              "    </tr>\n",
              "    <tr>\n",
              "      <th>100</th>\n",
              "      <td>18/07/2020 20:16:21</td>\n",
              "      <td>Male</td>\n",
              "      <td>20.0</td>\n",
              "      <td>Biomedical science</td>\n",
              "      <td>2</td>\n",
              "      <td>3.00 - 3.49</td>\n",
              "      <td>No</td>\n",
              "      <td>No</td>\n",
              "      <td>No</td>\n",
              "      <td>No</td>\n",
              "      <td>No</td>\n",
              "    </tr>\n",
              "  </tbody>\n",
              "</table>\n",
              "<p>100 rows × 11 columns</p>\n",
              "</div>\n",
              "    <div class=\"colab-df-buttons\">\n",
              "\n",
              "  <div class=\"colab-df-container\">\n",
              "    <button class=\"colab-df-convert\" onclick=\"convertToInteractive('df-093afb8d-10fc-419d-9575-a8b6dc77e2f8')\"\n",
              "            title=\"Convert this dataframe to an interactive table.\"\n",
              "            style=\"display:none;\">\n",
              "\n",
              "  <svg xmlns=\"http://www.w3.org/2000/svg\" height=\"24px\" viewBox=\"0 -960 960 960\">\n",
              "    <path d=\"M120-120v-720h720v720H120Zm60-500h600v-160H180v160Zm220 220h160v-160H400v160Zm0 220h160v-160H400v160ZM180-400h160v-160H180v160Zm440 0h160v-160H620v160ZM180-180h160v-160H180v160Zm440 0h160v-160H620v160Z\"/>\n",
              "  </svg>\n",
              "    </button>\n",
              "\n",
              "  <style>\n",
              "    .colab-df-container {\n",
              "      display:flex;\n",
              "      gap: 12px;\n",
              "    }\n",
              "\n",
              "    .colab-df-convert {\n",
              "      background-color: #E8F0FE;\n",
              "      border: none;\n",
              "      border-radius: 50%;\n",
              "      cursor: pointer;\n",
              "      display: none;\n",
              "      fill: #1967D2;\n",
              "      height: 32px;\n",
              "      padding: 0 0 0 0;\n",
              "      width: 32px;\n",
              "    }\n",
              "\n",
              "    .colab-df-convert:hover {\n",
              "      background-color: #E2EBFA;\n",
              "      box-shadow: 0px 1px 2px rgba(60, 64, 67, 0.3), 0px 1px 3px 1px rgba(60, 64, 67, 0.15);\n",
              "      fill: #174EA6;\n",
              "    }\n",
              "\n",
              "    .colab-df-buttons div {\n",
              "      margin-bottom: 4px;\n",
              "    }\n",
              "\n",
              "    [theme=dark] .colab-df-convert {\n",
              "      background-color: #3B4455;\n",
              "      fill: #D2E3FC;\n",
              "    }\n",
              "\n",
              "    [theme=dark] .colab-df-convert:hover {\n",
              "      background-color: #434B5C;\n",
              "      box-shadow: 0px 1px 3px 1px rgba(0, 0, 0, 0.15);\n",
              "      filter: drop-shadow(0px 1px 2px rgba(0, 0, 0, 0.3));\n",
              "      fill: #FFFFFF;\n",
              "    }\n",
              "  </style>\n",
              "\n",
              "    <script>\n",
              "      const buttonEl =\n",
              "        document.querySelector('#df-093afb8d-10fc-419d-9575-a8b6dc77e2f8 button.colab-df-convert');\n",
              "      buttonEl.style.display =\n",
              "        google.colab.kernel.accessAllowed ? 'block' : 'none';\n",
              "\n",
              "      async function convertToInteractive(key) {\n",
              "        const element = document.querySelector('#df-093afb8d-10fc-419d-9575-a8b6dc77e2f8');\n",
              "        const dataTable =\n",
              "          await google.colab.kernel.invokeFunction('convertToInteractive',\n",
              "                                                    [key], {});\n",
              "        if (!dataTable) return;\n",
              "\n",
              "        const docLinkHtml = 'Like what you see? Visit the ' +\n",
              "          '<a target=\"_blank\" href=https://colab.research.google.com/notebooks/data_table.ipynb>data table notebook</a>'\n",
              "          + ' to learn more about interactive tables.';\n",
              "        element.innerHTML = '';\n",
              "        dataTable['output_type'] = 'display_data';\n",
              "        await google.colab.output.renderOutput(dataTable, element);\n",
              "        const docLink = document.createElement('div');\n",
              "        docLink.innerHTML = docLinkHtml;\n",
              "        element.appendChild(docLink);\n",
              "      }\n",
              "    </script>\n",
              "  </div>\n",
              "\n",
              "\n",
              "<div id=\"df-80287a1c-06b0-45ff-9847-90cea4d57063\">\n",
              "  <button class=\"colab-df-quickchart\" onclick=\"quickchart('df-80287a1c-06b0-45ff-9847-90cea4d57063')\"\n",
              "            title=\"Suggest charts.\"\n",
              "            style=\"display:none;\">\n",
              "\n",
              "<svg xmlns=\"http://www.w3.org/2000/svg\" height=\"24px\"viewBox=\"0 0 24 24\"\n",
              "     width=\"24px\">\n",
              "    <g>\n",
              "        <path d=\"M19 3H5c-1.1 0-2 .9-2 2v14c0 1.1.9 2 2 2h14c1.1 0 2-.9 2-2V5c0-1.1-.9-2-2-2zM9 17H7v-7h2v7zm4 0h-2V7h2v10zm4 0h-2v-4h2v4z\"/>\n",
              "    </g>\n",
              "</svg>\n",
              "  </button>\n",
              "\n",
              "<style>\n",
              "  .colab-df-quickchart {\n",
              "      --bg-color: #E8F0FE;\n",
              "      --fill-color: #1967D2;\n",
              "      --hover-bg-color: #E2EBFA;\n",
              "      --hover-fill-color: #174EA6;\n",
              "      --disabled-fill-color: #AAA;\n",
              "      --disabled-bg-color: #DDD;\n",
              "  }\n",
              "\n",
              "  [theme=dark] .colab-df-quickchart {\n",
              "      --bg-color: #3B4455;\n",
              "      --fill-color: #D2E3FC;\n",
              "      --hover-bg-color: #434B5C;\n",
              "      --hover-fill-color: #FFFFFF;\n",
              "      --disabled-bg-color: #3B4455;\n",
              "      --disabled-fill-color: #666;\n",
              "  }\n",
              "\n",
              "  .colab-df-quickchart {\n",
              "    background-color: var(--bg-color);\n",
              "    border: none;\n",
              "    border-radius: 50%;\n",
              "    cursor: pointer;\n",
              "    display: none;\n",
              "    fill: var(--fill-color);\n",
              "    height: 32px;\n",
              "    padding: 0;\n",
              "    width: 32px;\n",
              "  }\n",
              "\n",
              "  .colab-df-quickchart:hover {\n",
              "    background-color: var(--hover-bg-color);\n",
              "    box-shadow: 0 1px 2px rgba(60, 64, 67, 0.3), 0 1px 3px 1px rgba(60, 64, 67, 0.15);\n",
              "    fill: var(--button-hover-fill-color);\n",
              "  }\n",
              "\n",
              "  .colab-df-quickchart-complete:disabled,\n",
              "  .colab-df-quickchart-complete:disabled:hover {\n",
              "    background-color: var(--disabled-bg-color);\n",
              "    fill: var(--disabled-fill-color);\n",
              "    box-shadow: none;\n",
              "  }\n",
              "\n",
              "  .colab-df-spinner {\n",
              "    border: 2px solid var(--fill-color);\n",
              "    border-color: transparent;\n",
              "    border-bottom-color: var(--fill-color);\n",
              "    animation:\n",
              "      spin 1s steps(1) infinite;\n",
              "  }\n",
              "\n",
              "  @keyframes spin {\n",
              "    0% {\n",
              "      border-color: transparent;\n",
              "      border-bottom-color: var(--fill-color);\n",
              "      border-left-color: var(--fill-color);\n",
              "    }\n",
              "    20% {\n",
              "      border-color: transparent;\n",
              "      border-left-color: var(--fill-color);\n",
              "      border-top-color: var(--fill-color);\n",
              "    }\n",
              "    30% {\n",
              "      border-color: transparent;\n",
              "      border-left-color: var(--fill-color);\n",
              "      border-top-color: var(--fill-color);\n",
              "      border-right-color: var(--fill-color);\n",
              "    }\n",
              "    40% {\n",
              "      border-color: transparent;\n",
              "      border-right-color: var(--fill-color);\n",
              "      border-top-color: var(--fill-color);\n",
              "    }\n",
              "    60% {\n",
              "      border-color: transparent;\n",
              "      border-right-color: var(--fill-color);\n",
              "    }\n",
              "    80% {\n",
              "      border-color: transparent;\n",
              "      border-right-color: var(--fill-color);\n",
              "      border-bottom-color: var(--fill-color);\n",
              "    }\n",
              "    90% {\n",
              "      border-color: transparent;\n",
              "      border-bottom-color: var(--fill-color);\n",
              "    }\n",
              "  }\n",
              "</style>\n",
              "\n",
              "  <script>\n",
              "    async function quickchart(key) {\n",
              "      const quickchartButtonEl =\n",
              "        document.querySelector('#' + key + ' button');\n",
              "      quickchartButtonEl.disabled = true;  // To prevent multiple clicks.\n",
              "      quickchartButtonEl.classList.add('colab-df-spinner');\n",
              "      try {\n",
              "        const charts = await google.colab.kernel.invokeFunction(\n",
              "            'suggestCharts', [key], {});\n",
              "      } catch (error) {\n",
              "        console.error('Error during call to suggestCharts:', error);\n",
              "      }\n",
              "      quickchartButtonEl.classList.remove('colab-df-spinner');\n",
              "      quickchartButtonEl.classList.add('colab-df-quickchart-complete');\n",
              "    }\n",
              "    (() => {\n",
              "      let quickchartButtonEl =\n",
              "        document.querySelector('#df-80287a1c-06b0-45ff-9847-90cea4d57063 button');\n",
              "      quickchartButtonEl.style.display =\n",
              "        google.colab.kernel.accessAllowed ? 'block' : 'none';\n",
              "    })();\n",
              "  </script>\n",
              "</div>\n",
              "    </div>\n",
              "  </div>\n"
            ]
          },
          "metadata": {},
          "execution_count": 63
        }
      ]
    },
    {
      "cell_type": "code",
      "source": [
        "df_final = df_1.drop('Date_Time',axis=1)\n",
        "df_final.head(1)"
      ],
      "metadata": {
        "execution": {
          "iopub.status.busy": "2023-02-21T14:42:57.564376Z",
          "iopub.execute_input": "2023-02-21T14:42:57.564846Z",
          "iopub.status.idle": "2023-02-21T14:42:57.583272Z",
          "shell.execute_reply.started": "2023-02-21T14:42:57.564796Z",
          "shell.execute_reply": "2023-02-21T14:42:57.581966Z"
        },
        "trusted": true,
        "colab": {
          "base_uri": "https://localhost:8080/",
          "height": 81
        },
        "id": "3FEs9QCXaPwt",
        "outputId": "8a45181a-855b-4261-c4c4-64be431b46b4"
      },
      "execution_count": 64,
      "outputs": [
        {
          "output_type": "execute_result",
          "data": {
            "text/plain": [
              "   Gender   Age       Course  Year         CGPA Marital_Status Depression  \\\n",
              "0  Female  18.0  Engineering     1  3.00 - 3.49             No        Yes   \n",
              "\n",
              "  Anxiety Panic_Attack Treatment  \n",
              "0      No          Yes        No  "
            ],
            "text/html": [
              "\n",
              "  <div id=\"df-15aee565-d758-4227-b807-6f889675870e\" class=\"colab-df-container\">\n",
              "    <div>\n",
              "<style scoped>\n",
              "    .dataframe tbody tr th:only-of-type {\n",
              "        vertical-align: middle;\n",
              "    }\n",
              "\n",
              "    .dataframe tbody tr th {\n",
              "        vertical-align: top;\n",
              "    }\n",
              "\n",
              "    .dataframe thead th {\n",
              "        text-align: right;\n",
              "    }\n",
              "</style>\n",
              "<table border=\"1\" class=\"dataframe\">\n",
              "  <thead>\n",
              "    <tr style=\"text-align: right;\">\n",
              "      <th></th>\n",
              "      <th>Gender</th>\n",
              "      <th>Age</th>\n",
              "      <th>Course</th>\n",
              "      <th>Year</th>\n",
              "      <th>CGPA</th>\n",
              "      <th>Marital_Status</th>\n",
              "      <th>Depression</th>\n",
              "      <th>Anxiety</th>\n",
              "      <th>Panic_Attack</th>\n",
              "      <th>Treatment</th>\n",
              "    </tr>\n",
              "  </thead>\n",
              "  <tbody>\n",
              "    <tr>\n",
              "      <th>0</th>\n",
              "      <td>Female</td>\n",
              "      <td>18.0</td>\n",
              "      <td>Engineering</td>\n",
              "      <td>1</td>\n",
              "      <td>3.00 - 3.49</td>\n",
              "      <td>No</td>\n",
              "      <td>Yes</td>\n",
              "      <td>No</td>\n",
              "      <td>Yes</td>\n",
              "      <td>No</td>\n",
              "    </tr>\n",
              "  </tbody>\n",
              "</table>\n",
              "</div>\n",
              "    <div class=\"colab-df-buttons\">\n",
              "\n",
              "  <div class=\"colab-df-container\">\n",
              "    <button class=\"colab-df-convert\" onclick=\"convertToInteractive('df-15aee565-d758-4227-b807-6f889675870e')\"\n",
              "            title=\"Convert this dataframe to an interactive table.\"\n",
              "            style=\"display:none;\">\n",
              "\n",
              "  <svg xmlns=\"http://www.w3.org/2000/svg\" height=\"24px\" viewBox=\"0 -960 960 960\">\n",
              "    <path d=\"M120-120v-720h720v720H120Zm60-500h600v-160H180v160Zm220 220h160v-160H400v160Zm0 220h160v-160H400v160ZM180-400h160v-160H180v160Zm440 0h160v-160H620v160ZM180-180h160v-160H180v160Zm440 0h160v-160H620v160Z\"/>\n",
              "  </svg>\n",
              "    </button>\n",
              "\n",
              "  <style>\n",
              "    .colab-df-container {\n",
              "      display:flex;\n",
              "      gap: 12px;\n",
              "    }\n",
              "\n",
              "    .colab-df-convert {\n",
              "      background-color: #E8F0FE;\n",
              "      border: none;\n",
              "      border-radius: 50%;\n",
              "      cursor: pointer;\n",
              "      display: none;\n",
              "      fill: #1967D2;\n",
              "      height: 32px;\n",
              "      padding: 0 0 0 0;\n",
              "      width: 32px;\n",
              "    }\n",
              "\n",
              "    .colab-df-convert:hover {\n",
              "      background-color: #E2EBFA;\n",
              "      box-shadow: 0px 1px 2px rgba(60, 64, 67, 0.3), 0px 1px 3px 1px rgba(60, 64, 67, 0.15);\n",
              "      fill: #174EA6;\n",
              "    }\n",
              "\n",
              "    .colab-df-buttons div {\n",
              "      margin-bottom: 4px;\n",
              "    }\n",
              "\n",
              "    [theme=dark] .colab-df-convert {\n",
              "      background-color: #3B4455;\n",
              "      fill: #D2E3FC;\n",
              "    }\n",
              "\n",
              "    [theme=dark] .colab-df-convert:hover {\n",
              "      background-color: #434B5C;\n",
              "      box-shadow: 0px 1px 3px 1px rgba(0, 0, 0, 0.15);\n",
              "      filter: drop-shadow(0px 1px 2px rgba(0, 0, 0, 0.3));\n",
              "      fill: #FFFFFF;\n",
              "    }\n",
              "  </style>\n",
              "\n",
              "    <script>\n",
              "      const buttonEl =\n",
              "        document.querySelector('#df-15aee565-d758-4227-b807-6f889675870e button.colab-df-convert');\n",
              "      buttonEl.style.display =\n",
              "        google.colab.kernel.accessAllowed ? 'block' : 'none';\n",
              "\n",
              "      async function convertToInteractive(key) {\n",
              "        const element = document.querySelector('#df-15aee565-d758-4227-b807-6f889675870e');\n",
              "        const dataTable =\n",
              "          await google.colab.kernel.invokeFunction('convertToInteractive',\n",
              "                                                    [key], {});\n",
              "        if (!dataTable) return;\n",
              "\n",
              "        const docLinkHtml = 'Like what you see? Visit the ' +\n",
              "          '<a target=\"_blank\" href=https://colab.research.google.com/notebooks/data_table.ipynb>data table notebook</a>'\n",
              "          + ' to learn more about interactive tables.';\n",
              "        element.innerHTML = '';\n",
              "        dataTable['output_type'] = 'display_data';\n",
              "        await google.colab.output.renderOutput(dataTable, element);\n",
              "        const docLink = document.createElement('div');\n",
              "        docLink.innerHTML = docLinkHtml;\n",
              "        element.appendChild(docLink);\n",
              "      }\n",
              "    </script>\n",
              "  </div>\n",
              "\n",
              "    </div>\n",
              "  </div>\n"
            ]
          },
          "metadata": {},
          "execution_count": 64
        }
      ]
    },
    {
      "cell_type": "markdown",
      "source": [
        "Mental Health is becomming a common issue among youngs in India including professionals and students. People find it\n",
        "shy to speak and come forward with this ever rising issue in our society which can be detrimental for our economy . Most of the people find it normal to have anxiety and panic attacks hence they neglect undergoing treatment or consult doctors.In many cases people didn't realize even that they are suffering from mental health problems.People with depression have an increased risk of cardiovascular disease, diabetes, stroke, pain, and Alzheimer's disease\n",
        "\n",
        "Here we are trying to predict the mentality of citizens(may be due to their negligence or went unrecognised) as whether people had seek any specialist for a treatment or not even after suffering from depression , anxiety , panic attacks"
      ],
      "metadata": {
        "id": "wd3p7BeEaPwu"
      }
    },
    {
      "cell_type": "markdown",
      "source": [
        "# Trainning Model"
      ],
      "metadata": {
        "id": "GIbq9aI8aPwu"
      }
    },
    {
      "cell_type": "code",
      "source": [
        "df_2.sample(2)"
      ],
      "metadata": {
        "execution": {
          "iopub.status.busy": "2023-02-21T14:42:57.600195Z",
          "iopub.execute_input": "2023-02-21T14:42:57.600611Z",
          "iopub.status.idle": "2023-02-21T14:42:57.618195Z",
          "shell.execute_reply.started": "2023-02-21T14:42:57.600575Z",
          "shell.execute_reply": "2023-02-21T14:42:57.616888Z"
        },
        "trusted": true,
        "colab": {
          "base_uri": "https://localhost:8080/",
          "height": 112
        },
        "id": "vP49DjliaPwu",
        "outputId": "ee2442f6-af8e-4869-e9e2-391487e21ddb"
      },
      "execution_count": 66,
      "outputs": [
        {
          "output_type": "execute_result",
          "data": {
            "text/plain": [
              "    Gender   Age  Course  Year  CGPA  Marital_Status  Depression  Anxiety  \\\n",
              "86       0  19.0      15     3     3               0           0        0   \n",
              "70       0  24.0       5     1     3               0           0        0   \n",
              "\n",
              "    Panic_Attack  Treatment  \n",
              "86             0          0  \n",
              "70             0          0  "
            ],
            "text/html": [
              "\n",
              "  <div id=\"df-84c1f441-5401-46b4-8af8-c4b513492002\" class=\"colab-df-container\">\n",
              "    <div>\n",
              "<style scoped>\n",
              "    .dataframe tbody tr th:only-of-type {\n",
              "        vertical-align: middle;\n",
              "    }\n",
              "\n",
              "    .dataframe tbody tr th {\n",
              "        vertical-align: top;\n",
              "    }\n",
              "\n",
              "    .dataframe thead th {\n",
              "        text-align: right;\n",
              "    }\n",
              "</style>\n",
              "<table border=\"1\" class=\"dataframe\">\n",
              "  <thead>\n",
              "    <tr style=\"text-align: right;\">\n",
              "      <th></th>\n",
              "      <th>Gender</th>\n",
              "      <th>Age</th>\n",
              "      <th>Course</th>\n",
              "      <th>Year</th>\n",
              "      <th>CGPA</th>\n",
              "      <th>Marital_Status</th>\n",
              "      <th>Depression</th>\n",
              "      <th>Anxiety</th>\n",
              "      <th>Panic_Attack</th>\n",
              "      <th>Treatment</th>\n",
              "    </tr>\n",
              "  </thead>\n",
              "  <tbody>\n",
              "    <tr>\n",
              "      <th>86</th>\n",
              "      <td>0</td>\n",
              "      <td>19.0</td>\n",
              "      <td>15</td>\n",
              "      <td>3</td>\n",
              "      <td>3</td>\n",
              "      <td>0</td>\n",
              "      <td>0</td>\n",
              "      <td>0</td>\n",
              "      <td>0</td>\n",
              "      <td>0</td>\n",
              "    </tr>\n",
              "    <tr>\n",
              "      <th>70</th>\n",
              "      <td>0</td>\n",
              "      <td>24.0</td>\n",
              "      <td>5</td>\n",
              "      <td>1</td>\n",
              "      <td>3</td>\n",
              "      <td>0</td>\n",
              "      <td>0</td>\n",
              "      <td>0</td>\n",
              "      <td>0</td>\n",
              "      <td>0</td>\n",
              "    </tr>\n",
              "  </tbody>\n",
              "</table>\n",
              "</div>\n",
              "    <div class=\"colab-df-buttons\">\n",
              "\n",
              "  <div class=\"colab-df-container\">\n",
              "    <button class=\"colab-df-convert\" onclick=\"convertToInteractive('df-84c1f441-5401-46b4-8af8-c4b513492002')\"\n",
              "            title=\"Convert this dataframe to an interactive table.\"\n",
              "            style=\"display:none;\">\n",
              "\n",
              "  <svg xmlns=\"http://www.w3.org/2000/svg\" height=\"24px\" viewBox=\"0 -960 960 960\">\n",
              "    <path d=\"M120-120v-720h720v720H120Zm60-500h600v-160H180v160Zm220 220h160v-160H400v160Zm0 220h160v-160H400v160ZM180-400h160v-160H180v160Zm440 0h160v-160H620v160ZM180-180h160v-160H180v160Zm440 0h160v-160H620v160Z\"/>\n",
              "  </svg>\n",
              "    </button>\n",
              "\n",
              "  <style>\n",
              "    .colab-df-container {\n",
              "      display:flex;\n",
              "      gap: 12px;\n",
              "    }\n",
              "\n",
              "    .colab-df-convert {\n",
              "      background-color: #E8F0FE;\n",
              "      border: none;\n",
              "      border-radius: 50%;\n",
              "      cursor: pointer;\n",
              "      display: none;\n",
              "      fill: #1967D2;\n",
              "      height: 32px;\n",
              "      padding: 0 0 0 0;\n",
              "      width: 32px;\n",
              "    }\n",
              "\n",
              "    .colab-df-convert:hover {\n",
              "      background-color: #E2EBFA;\n",
              "      box-shadow: 0px 1px 2px rgba(60, 64, 67, 0.3), 0px 1px 3px 1px rgba(60, 64, 67, 0.15);\n",
              "      fill: #174EA6;\n",
              "    }\n",
              "\n",
              "    .colab-df-buttons div {\n",
              "      margin-bottom: 4px;\n",
              "    }\n",
              "\n",
              "    [theme=dark] .colab-df-convert {\n",
              "      background-color: #3B4455;\n",
              "      fill: #D2E3FC;\n",
              "    }\n",
              "\n",
              "    [theme=dark] .colab-df-convert:hover {\n",
              "      background-color: #434B5C;\n",
              "      box-shadow: 0px 1px 3px 1px rgba(0, 0, 0, 0.15);\n",
              "      filter: drop-shadow(0px 1px 2px rgba(0, 0, 0, 0.3));\n",
              "      fill: #FFFFFF;\n",
              "    }\n",
              "  </style>\n",
              "\n",
              "    <script>\n",
              "      const buttonEl =\n",
              "        document.querySelector('#df-84c1f441-5401-46b4-8af8-c4b513492002 button.colab-df-convert');\n",
              "      buttonEl.style.display =\n",
              "        google.colab.kernel.accessAllowed ? 'block' : 'none';\n",
              "\n",
              "      async function convertToInteractive(key) {\n",
              "        const element = document.querySelector('#df-84c1f441-5401-46b4-8af8-c4b513492002');\n",
              "        const dataTable =\n",
              "          await google.colab.kernel.invokeFunction('convertToInteractive',\n",
              "                                                    [key], {});\n",
              "        if (!dataTable) return;\n",
              "\n",
              "        const docLinkHtml = 'Like what you see? Visit the ' +\n",
              "          '<a target=\"_blank\" href=https://colab.research.google.com/notebooks/data_table.ipynb>data table notebook</a>'\n",
              "          + ' to learn more about interactive tables.';\n",
              "        element.innerHTML = '';\n",
              "        dataTable['output_type'] = 'display_data';\n",
              "        await google.colab.output.renderOutput(dataTable, element);\n",
              "        const docLink = document.createElement('div');\n",
              "        docLink.innerHTML = docLinkHtml;\n",
              "        element.appendChild(docLink);\n",
              "      }\n",
              "    </script>\n",
              "  </div>\n",
              "\n",
              "\n",
              "<div id=\"df-a92db028-4976-41d7-b849-5bd15fd4fb04\">\n",
              "  <button class=\"colab-df-quickchart\" onclick=\"quickchart('df-a92db028-4976-41d7-b849-5bd15fd4fb04')\"\n",
              "            title=\"Suggest charts.\"\n",
              "            style=\"display:none;\">\n",
              "\n",
              "<svg xmlns=\"http://www.w3.org/2000/svg\" height=\"24px\"viewBox=\"0 0 24 24\"\n",
              "     width=\"24px\">\n",
              "    <g>\n",
              "        <path d=\"M19 3H5c-1.1 0-2 .9-2 2v14c0 1.1.9 2 2 2h14c1.1 0 2-.9 2-2V5c0-1.1-.9-2-2-2zM9 17H7v-7h2v7zm4 0h-2V7h2v10zm4 0h-2v-4h2v4z\"/>\n",
              "    </g>\n",
              "</svg>\n",
              "  </button>\n",
              "\n",
              "<style>\n",
              "  .colab-df-quickchart {\n",
              "      --bg-color: #E8F0FE;\n",
              "      --fill-color: #1967D2;\n",
              "      --hover-bg-color: #E2EBFA;\n",
              "      --hover-fill-color: #174EA6;\n",
              "      --disabled-fill-color: #AAA;\n",
              "      --disabled-bg-color: #DDD;\n",
              "  }\n",
              "\n",
              "  [theme=dark] .colab-df-quickchart {\n",
              "      --bg-color: #3B4455;\n",
              "      --fill-color: #D2E3FC;\n",
              "      --hover-bg-color: #434B5C;\n",
              "      --hover-fill-color: #FFFFFF;\n",
              "      --disabled-bg-color: #3B4455;\n",
              "      --disabled-fill-color: #666;\n",
              "  }\n",
              "\n",
              "  .colab-df-quickchart {\n",
              "    background-color: var(--bg-color);\n",
              "    border: none;\n",
              "    border-radius: 50%;\n",
              "    cursor: pointer;\n",
              "    display: none;\n",
              "    fill: var(--fill-color);\n",
              "    height: 32px;\n",
              "    padding: 0;\n",
              "    width: 32px;\n",
              "  }\n",
              "\n",
              "  .colab-df-quickchart:hover {\n",
              "    background-color: var(--hover-bg-color);\n",
              "    box-shadow: 0 1px 2px rgba(60, 64, 67, 0.3), 0 1px 3px 1px rgba(60, 64, 67, 0.15);\n",
              "    fill: var(--button-hover-fill-color);\n",
              "  }\n",
              "\n",
              "  .colab-df-quickchart-complete:disabled,\n",
              "  .colab-df-quickchart-complete:disabled:hover {\n",
              "    background-color: var(--disabled-bg-color);\n",
              "    fill: var(--disabled-fill-color);\n",
              "    box-shadow: none;\n",
              "  }\n",
              "\n",
              "  .colab-df-spinner {\n",
              "    border: 2px solid var(--fill-color);\n",
              "    border-color: transparent;\n",
              "    border-bottom-color: var(--fill-color);\n",
              "    animation:\n",
              "      spin 1s steps(1) infinite;\n",
              "  }\n",
              "\n",
              "  @keyframes spin {\n",
              "    0% {\n",
              "      border-color: transparent;\n",
              "      border-bottom-color: var(--fill-color);\n",
              "      border-left-color: var(--fill-color);\n",
              "    }\n",
              "    20% {\n",
              "      border-color: transparent;\n",
              "      border-left-color: var(--fill-color);\n",
              "      border-top-color: var(--fill-color);\n",
              "    }\n",
              "    30% {\n",
              "      border-color: transparent;\n",
              "      border-left-color: var(--fill-color);\n",
              "      border-top-color: var(--fill-color);\n",
              "      border-right-color: var(--fill-color);\n",
              "    }\n",
              "    40% {\n",
              "      border-color: transparent;\n",
              "      border-right-color: var(--fill-color);\n",
              "      border-top-color: var(--fill-color);\n",
              "    }\n",
              "    60% {\n",
              "      border-color: transparent;\n",
              "      border-right-color: var(--fill-color);\n",
              "    }\n",
              "    80% {\n",
              "      border-color: transparent;\n",
              "      border-right-color: var(--fill-color);\n",
              "      border-bottom-color: var(--fill-color);\n",
              "    }\n",
              "    90% {\n",
              "      border-color: transparent;\n",
              "      border-bottom-color: var(--fill-color);\n",
              "    }\n",
              "  }\n",
              "</style>\n",
              "\n",
              "  <script>\n",
              "    async function quickchart(key) {\n",
              "      const quickchartButtonEl =\n",
              "        document.querySelector('#' + key + ' button');\n",
              "      quickchartButtonEl.disabled = true;  // To prevent multiple clicks.\n",
              "      quickchartButtonEl.classList.add('colab-df-spinner');\n",
              "      try {\n",
              "        const charts = await google.colab.kernel.invokeFunction(\n",
              "            'suggestCharts', [key], {});\n",
              "      } catch (error) {\n",
              "        console.error('Error during call to suggestCharts:', error);\n",
              "      }\n",
              "      quickchartButtonEl.classList.remove('colab-df-spinner');\n",
              "      quickchartButtonEl.classList.add('colab-df-quickchart-complete');\n",
              "    }\n",
              "    (() => {\n",
              "      let quickchartButtonEl =\n",
              "        document.querySelector('#df-a92db028-4976-41d7-b849-5bd15fd4fb04 button');\n",
              "      quickchartButtonEl.style.display =\n",
              "        google.colab.kernel.accessAllowed ? 'block' : 'none';\n",
              "    })();\n",
              "  </script>\n",
              "</div>\n",
              "    </div>\n",
              "  </div>\n"
            ]
          },
          "metadata": {},
          "execution_count": 66
        }
      ]
    },
    {
      "cell_type": "code",
      "source": [
        "import pandas as pd\n",
        "import numpy as np\n",
        "import tensorflow as tf\n",
        "from sklearn.model_selection import train_test_split\n",
        "from sklearn.preprocessing import StandardScaler\n",
        "\n",
        "# Assuming you have already renamed your DataFrame to df_2\n",
        "\n",
        "# Preprocessing the data\n",
        "df_2['Gender'] = df_2['Gender'].astype('category').cat.codes\n",
        "df_2['Course'] = df_2['Course'].astype('category').cat.codes\n",
        "df_2['Marital_Status'] = df_2['Marital_Status'].astype('category').cat.codes\n",
        "\n",
        "# Define features and target\n",
        "X = df_2.drop(columns=['Treatment'])  # Features\n",
        "y = df_2['Treatment']  # Target variable\n",
        "\n",
        "# Split the data into training and testing sets\n",
        "X_train, X_test, y_train, y_test = train_test_split(X, y, test_size=0.2, random_state=42)\n",
        "\n",
        "# Standardize the numerical features\n",
        "scaler = StandardScaler()\n",
        "X_train = scaler.fit_transform(X_train)\n",
        "X_test = scaler.transform(X_test)\n",
        "\n",
        "# Create a deep learning model\n",
        "model = tf.keras.Sequential([\n",
        "    tf.keras.layers.Input(shape=(X_train.shape[1],)),\n",
        "    tf.keras.layers.Dense(64, activation='relu'),\n",
        "    tf.keras.layers.Dense(32, activation='relu'),\n",
        "    tf.keras.layers.Dense(1, activation='sigmoid')\n",
        "])\n",
        "\n",
        "# Compile the model\n",
        "model.compile(optimizer='adam', loss='binary_crossentropy', metrics=['accuracy'])\n",
        "\n",
        "# Train the model\n",
        "model.fit(X_train, y_train, epochs=10, batch_size=32, validation_data=(X_test, y_test))\n",
        "\n",
        "# Evaluate the model\n",
        "loss, accuracy = model.evaluate(X_test, y_test)\n",
        "print(f\"Test loss: {loss:.4f}, Test accuracy: {accuracy * 100:.2f}%\")\n",
        "\n",
        "# Make predictions\n",
        "y_pred_probabilities = model.predict(X_test)\n",
        "\n",
        "# Calculate risk percentages\n",
        "risk_percentages = y_pred_probabilities * 100\n",
        "\n",
        "# Display the risk percentages for each patient in the testing dataset\n",
        "for i, risk_percentage in enumerate(risk_percentages):\n",
        "    print(f\"Patient {i+1}: {risk_percentage[0]:.2f}% Risk\")\n",
        "\n",
        "# Optionally, you can set a threshold to classify patients as \"At Risk\" or \"Not At Risk\" based on the threshold.\n"
      ],
      "metadata": {
        "colab": {
          "base_uri": "https://localhost:8080/"
        },
        "id": "aKc50RGiy4hW",
        "outputId": "c566209c-4e71-41f6-b465-630b74c659d9"
      },
      "execution_count": 71,
      "outputs": [
        {
          "output_type": "stream",
          "name": "stdout",
          "text": [
            "Epoch 1/10\n",
            "3/3 [==============================] - 2s 172ms/step - loss: 0.8788 - accuracy: 0.0875 - val_loss: 0.8009 - val_accuracy: 0.1500\n",
            "Epoch 2/10\n",
            "3/3 [==============================] - 0s 38ms/step - loss: 0.7970 - accuracy: 0.2375 - val_loss: 0.7402 - val_accuracy: 0.3000\n",
            "Epoch 3/10\n",
            "3/3 [==============================] - 0s 22ms/step - loss: 0.7223 - accuracy: 0.4625 - val_loss: 0.6888 - val_accuracy: 0.5000\n",
            "Epoch 4/10\n",
            "3/3 [==============================] - 0s 23ms/step - loss: 0.6593 - accuracy: 0.6375 - val_loss: 0.6468 - val_accuracy: 0.6500\n",
            "Epoch 5/10\n",
            "3/3 [==============================] - 0s 33ms/step - loss: 0.6045 - accuracy: 0.7875 - val_loss: 0.6123 - val_accuracy: 0.7500\n",
            "Epoch 6/10\n",
            "3/3 [==============================] - 0s 33ms/step - loss: 0.5550 - accuracy: 0.8875 - val_loss: 0.5820 - val_accuracy: 0.8500\n",
            "Epoch 7/10\n",
            "3/3 [==============================] - 0s 23ms/step - loss: 0.5083 - accuracy: 0.9250 - val_loss: 0.5549 - val_accuracy: 0.8500\n",
            "Epoch 8/10\n",
            "3/3 [==============================] - 0s 22ms/step - loss: 0.4686 - accuracy: 0.9625 - val_loss: 0.5316 - val_accuracy: 0.8500\n",
            "Epoch 9/10\n",
            "3/3 [==============================] - 0s 31ms/step - loss: 0.4301 - accuracy: 0.9625 - val_loss: 0.5125 - val_accuracy: 0.8500\n",
            "Epoch 10/10\n",
            "3/3 [==============================] - 0s 23ms/step - loss: 0.3961 - accuracy: 0.9625 - val_loss: 0.4971 - val_accuracy: 0.8500\n",
            "1/1 [==============================] - 0s 36ms/step - loss: 0.4971 - accuracy: 0.8500\n",
            "Test loss: 0.4971, Test accuracy: 85.00%\n",
            "1/1 [==============================] - 0s 142ms/step\n",
            "Patient 1: 13.88% Risk\n",
            "Patient 2: 25.36% Risk\n",
            "Patient 3: 25.49% Risk\n",
            "Patient 4: 39.29% Risk\n",
            "Patient 5: 19.04% Risk\n",
            "Patient 6: 20.40% Risk\n",
            "Patient 7: 33.79% Risk\n",
            "Patient 8: 36.47% Risk\n",
            "Patient 9: 31.12% Risk\n",
            "Patient 10: 27.80% Risk\n",
            "Patient 11: 42.77% Risk\n",
            "Patient 12: 39.33% Risk\n",
            "Patient 13: 18.99% Risk\n",
            "Patient 14: 24.05% Risk\n",
            "Patient 15: 17.84% Risk\n",
            "Patient 16: 15.64% Risk\n",
            "Patient 17: 24.48% Risk\n",
            "Patient 18: 16.33% Risk\n",
            "Patient 19: 37.24% Risk\n",
            "Patient 20: 24.26% Risk\n"
          ]
        }
      ]
    }
  ]
}
